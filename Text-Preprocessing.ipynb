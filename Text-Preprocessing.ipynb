{
 "cells": [
  {
   "cell_type": "code",
   "execution_count": 90,
   "id": "bece53d5",
   "metadata": {},
   "outputs": [],
   "source": [
    "import os\n",
    "import re\n",
    "import requests\n",
    "import zipfile\n",
    "from datasets import load_dataset\n",
    "\n",
    "import nltk\n",
    "\n",
    "import numpy as np\n",
    "import seaborn as sns\n",
    "import pandas as pd\n",
    "\n",
    "from matplotlib import pyplot as plt\n",
    "from nltk.corpus import stopwords\n",
    "from nltk.stem.isri import ISRIStemmer\n",
    "from camel_tools.utils.dediac import dediac_ar\n",
    "from camel_tools.utils.charmap import CharMapper\n",
    "import emoji\n",
    "from collections import Counter\n",
    "from typing import Callable\n",
    "\n",
    "\n",
    "\n",
    "%matplotlib inline"
   ]
  },
  {
   "cell_type": "code",
   "execution_count": 57,
   "id": "3bdb1709",
   "metadata": {
    "scrolled": true
   },
   "outputs": [
    {
     "name": "stderr",
     "output_type": "stream",
     "text": [
      "[nltk_data] Downloading collection 'popular'\n",
      "[nltk_data]    | \n",
      "[nltk_data]    | Downloading package cmudict to\n",
      "[nltk_data]    |     /Users/anas/nltk_data...\n",
      "[nltk_data]    |   Package cmudict is already up-to-date!\n",
      "[nltk_data]    | Downloading package gazetteers to\n",
      "[nltk_data]    |     /Users/anas/nltk_data...\n",
      "[nltk_data]    |   Package gazetteers is already up-to-date!\n",
      "[nltk_data]    | Downloading package genesis to\n",
      "[nltk_data]    |     /Users/anas/nltk_data...\n",
      "[nltk_data]    |   Package genesis is already up-to-date!\n",
      "[nltk_data]    | Downloading package gutenberg to\n",
      "[nltk_data]    |     /Users/anas/nltk_data...\n",
      "[nltk_data]    |   Package gutenberg is already up-to-date!\n",
      "[nltk_data]    | Downloading package inaugural to\n",
      "[nltk_data]    |     /Users/anas/nltk_data...\n",
      "[nltk_data]    |   Package inaugural is already up-to-date!\n",
      "[nltk_data]    | Downloading package movie_reviews to\n",
      "[nltk_data]    |     /Users/anas/nltk_data...\n",
      "[nltk_data]    |   Package movie_reviews is already up-to-date!\n",
      "[nltk_data]    | Downloading package names to /Users/anas/nltk_data...\n",
      "[nltk_data]    |   Package names is already up-to-date!\n",
      "[nltk_data]    | Downloading package shakespeare to\n",
      "[nltk_data]    |     /Users/anas/nltk_data...\n",
      "[nltk_data]    |   Package shakespeare is already up-to-date!\n",
      "[nltk_data]    | Downloading package stopwords to\n",
      "[nltk_data]    |     /Users/anas/nltk_data...\n",
      "[nltk_data]    |   Package stopwords is already up-to-date!\n",
      "[nltk_data]    | Downloading package treebank to\n",
      "[nltk_data]    |     /Users/anas/nltk_data...\n",
      "[nltk_data]    |   Package treebank is already up-to-date!\n",
      "[nltk_data]    | Downloading package twitter_samples to\n",
      "[nltk_data]    |     /Users/anas/nltk_data...\n",
      "[nltk_data]    |   Package twitter_samples is already up-to-date!\n",
      "[nltk_data]    | Downloading package omw to /Users/anas/nltk_data...\n",
      "[nltk_data]    |   Package omw is already up-to-date!\n",
      "[nltk_data]    | Downloading package omw-1.4 to\n",
      "[nltk_data]    |     /Users/anas/nltk_data...\n",
      "[nltk_data]    |   Package omw-1.4 is already up-to-date!\n",
      "[nltk_data]    | Downloading package wordnet to\n",
      "[nltk_data]    |     /Users/anas/nltk_data...\n",
      "[nltk_data]    |   Package wordnet is already up-to-date!\n",
      "[nltk_data]    | Downloading package wordnet2021 to\n",
      "[nltk_data]    |     /Users/anas/nltk_data...\n",
      "[nltk_data]    |   Package wordnet2021 is already up-to-date!\n",
      "[nltk_data]    | Downloading package wordnet31 to\n",
      "[nltk_data]    |     /Users/anas/nltk_data...\n",
      "[nltk_data]    |   Package wordnet31 is already up-to-date!\n",
      "[nltk_data]    | Downloading package wordnet_ic to\n",
      "[nltk_data]    |     /Users/anas/nltk_data...\n",
      "[nltk_data]    |   Package wordnet_ic is already up-to-date!\n",
      "[nltk_data]    | Downloading package words to /Users/anas/nltk_data...\n",
      "[nltk_data]    |   Package words is already up-to-date!\n",
      "[nltk_data]    | Downloading package maxent_ne_chunker to\n",
      "[nltk_data]    |     /Users/anas/nltk_data...\n",
      "[nltk_data]    |   Package maxent_ne_chunker is already up-to-date!\n",
      "[nltk_data]    | Downloading package punkt to /Users/anas/nltk_data...\n",
      "[nltk_data]    |   Package punkt is already up-to-date!\n",
      "[nltk_data]    | Downloading package snowball_data to\n",
      "[nltk_data]    |     /Users/anas/nltk_data...\n",
      "[nltk_data]    |   Package snowball_data is already up-to-date!\n",
      "[nltk_data]    | Downloading package averaged_perceptron_tagger to\n",
      "[nltk_data]    |     /Users/anas/nltk_data...\n",
      "[nltk_data]    |   Package averaged_perceptron_tagger is already up-\n",
      "[nltk_data]    |       to-date!\n",
      "[nltk_data]    | \n",
      "[nltk_data]  Done downloading collection popular\n",
      "[nltk_data] Downloading package stopwords to /Users/anas/nltk_data...\n",
      "[nltk_data]   Package stopwords is already up-to-date!\n"
     ]
    },
    {
     "data": {
      "text/plain": [
       "True"
      ]
     },
     "execution_count": 57,
     "metadata": {},
     "output_type": "execute_result"
    }
   ],
   "source": [
    "nltk.download(\"popular\")\n",
    "nltk.download(\"stopwords\")"
   ]
  },
  {
   "cell_type": "markdown",
   "id": "b608d0aa",
   "metadata": {},
   "source": [
    "# Introduction\n",
    "\n",
    "The goal of this notebook is to *practice text preprocessing*\n",
    "\n",
    "\n",
    "You're part of a team in Twitter that's assigned to create a sentiment analysis model for tweets in Arabic, your task is to prepare the data for training a model to classify wether the tweet has *positive* or *negative* sentiment\n",
    "\n",
    "## Components of Preprocessing\n",
    "\n",
    "### Text Cleaning\n",
    "\n",
    "We need to remove or keep parts of the tweet so that the remaining text is **relevant** to the task at hand \n",
    "\n",
    "#### What are the possbile parts to remove or keep?\n",
    "\n",
    "1. Hashtags\n",
    "2. Mentions\n",
    "3. Emojis\n",
    "4. URLs\n",
    "5. Numbers\n",
    "6. English characters\n",
    "7. Stop words\n",
    "8. Diactrics\n",
    "9. Punctiation marks\n",
    "10. Others\n",
    "\n",
    "### Stemming / Lemmatisation\n",
    "\n",
    "\n",
    "\n",
    "### Steps\n",
    "In this notebook we should:\n",
    "\n",
    "1. Read the raw data\n",
    "2. Explore the dataset\n",
    "3. Text Cleaning\n",
    "4. Stemming / Lemmatisation\n",
    "\n",
    "## The Dataset\n",
    "\n",
    "The dataset for this project is ArSenTD-Lev, a collection of 4,000 labeled tweets in the Levantine dialect, along side the tweet text:\n",
    "\n",
    "- Country\n",
    "- Topic (personal, politics, religion, sports, entertainment, others)\n",
    "- Sentiment (very_negative, negative, neutral, positive, very_positive)\n",
    "- Sentiment_Expression : implicit, explicit, or none (when neutral)\n",
    "- Sentiment_Target: The part of the text of which the sentiment was derived\n",
    "\n",
    "The original dataset is found on the [original website](http://oma-project.com/ArSenL/ArSenTD_Lev_Intro)\n",
    "\n",
    "and with another copy of the dataset found on the [course website](https://shai-nlp-course.netlify.app/ArSenTD-LEV.tsv)"
   ]
  },
  {
   "cell_type": "markdown",
   "id": "d586041b",
   "metadata": {},
   "source": [
    "# Setup"
   ]
  },
  {
   "cell_type": "code",
   "execution_count": 58,
   "id": "641ad339",
   "metadata": {},
   "outputs": [],
   "source": [
    "data_dir = os.path.join(os.curdir, \"data\")\n",
    "archive_path = os.path.join(data_dir, \"arsentd-lev.tsv\")\n",
    "tweets_dir = os.path.join(data_dir, \"arsentd-lev\")"
   ]
  },
  {
   "cell_type": "markdown",
   "id": "b03994b0",
   "metadata": {},
   "source": [
    "## read the data"
   ]
  },
  {
   "cell_type": "code",
   "execution_count": 59,
   "id": "2260a860",
   "metadata": {},
   "outputs": [],
   "source": [
    "data = pd.read_csv(\n",
    "    \"data/arsentd-lev/ArSenTD-LEV.tsv\",\n",
    "    sep=\"\\t\",\n",
    ")"
   ]
  },
  {
   "cell_type": "markdown",
   "id": "584efb98",
   "metadata": {},
   "source": [
    "# Explaratory Data Analysis (EDA)"
   ]
  },
  {
   "cell_type": "code",
   "execution_count": 60,
   "id": "a32c87f8",
   "metadata": {},
   "outputs": [],
   "source": [
    "data[\"Sentiment\"] = data[\"Sentiment\"].replace(\n",
    "    {\"very_negative\": \"negative\", \"very_positive\": \"positive\"}\n",
    ")"
   ]
  },
  {
   "cell_type": "code",
   "execution_count": 61,
   "id": "2b3701d9",
   "metadata": {},
   "outputs": [],
   "source": [
    "sentiment_count = data.groupby(by=\"Sentiment\", as_index=False).count()[[\"Sentiment\", \"Tweet\"]]"
   ]
  },
  {
   "cell_type": "code",
   "execution_count": 62,
   "id": "0bc73c37",
   "metadata": {},
   "outputs": [
    {
     "name": "stderr",
     "output_type": "stream",
     "text": [
      "/var/folders/tg/jhy0d12925ldvjghgc440mjh0000gn/T/ipykernel_77524/3624011578.py:8: UserWarning: FigureCanvasAgg is non-interactive, and thus cannot be shown\n",
      "  fig.show()\n"
     ]
    },
    {
     "data": {
      "image/png": "[encoded data removed]",
      "text/plain": [
       "<Figure size 1500x1200 with 1 Axes>"
      ]
     },
     "metadata": {},
     "output_type": "display_data"
    }
   ],
   "source": [
    "fig, ax = plt.subplots(figsize=(15, 12))\n",
    "\n",
    "ax.pie(x=sentiment_count[\"Tweet\"].to_list(), \n",
    "       labels=sentiment_count[\"Sentiment\"].to_list(),\n",
    "       autopct='%1.1f%%'\n",
    "      )\n",
    "\n",
    "fig.show()"
   ]
  },
  {
   "cell_type": "code",
   "execution_count": 63,
   "id": "d3dbe187",
   "metadata": {},
   "outputs": [],
   "source": [
    "data[\"word_count\"] = data[\"Tweet\"].apply(lambda x: len(x.split(\" \")))"
   ]
  },
  {
   "cell_type": "code",
   "execution_count": 64,
   "id": "ddaf6f81",
   "metadata": {},
   "outputs": [
    {
     "data": {
      "text/plain": [
       "count    4000.00000\n",
       "mean       22.69825\n",
       "std         3.28495\n",
       "min         7.00000\n",
       "25%        21.00000\n",
       "50%        23.00000\n",
       "75%        25.00000\n",
       "max        35.00000\n",
       "Name: word_count, dtype: float64"
      ]
     },
     "execution_count": 64,
     "metadata": {},
     "output_type": "execute_result"
    }
   ],
   "source": [
    "data[\"word_count\"].describe()"
   ]
  },
  {
   "cell_type": "code",
   "execution_count": 65,
   "id": "4070fb30",
   "metadata": {},
   "outputs": [
    {
     "data": {
      "text/plain": [
       "count    4000.000000\n",
       "mean      131.364250\n",
       "std        14.314636\n",
       "min        42.000000\n",
       "25%       128.000000\n",
       "50%       138.000000\n",
       "75%       140.000000\n",
       "max       147.000000\n",
       "Name: char_count, dtype: float64"
      ]
     },
     "execution_count": 65,
     "metadata": {},
     "output_type": "execute_result"
    }
   ],
   "source": [
    "data[\"char_count\"] = data[\"Tweet\"].apply(len)\n",
    "data[\"char_count\"].describe()"
   ]
  },
  {
   "cell_type": "markdown",
   "id": "6f3e48f9",
   "metadata": {},
   "source": [
    "## Vocabulary\n",
    "\n",
    "Vocabulary: the set of unique vocabulary in the corpus\n",
    "and optionally the count of each vocab"
   ]
  },
  {
   "cell_type": "code",
   "execution_count": 66,
   "id": "0ae00581",
   "metadata": {},
   "outputs": [],
   "source": [
    "all_words = [word for tweet in data[\"Tweet\"] for word in tweet.split(\" \")]"
   ]
  },
  {
   "cell_type": "code",
   "execution_count": 67,
   "id": "417f237e",
   "metadata": {},
   "outputs": [],
   "source": [
    "vocab = Counter(all_words)"
   ]
  },
  {
   "cell_type": "markdown",
   "id": "34c442c5",
   "metadata": {},
   "source": [
    "Explore the most and least common words in the vocab"
   ]
  },
  {
   "cell_type": "code",
   "execution_count": 68,
   "id": "fbe62748",
   "metadata": {},
   "outputs": [
    {
     "name": "stdout",
     "output_type": "stream",
     "text": [
      "Least Common\n"
     ]
    },
    {
     "data": {
      "text/plain": [
       "[('الريحة', 1),\n",
       " ('نقلاً', 1),\n",
       " ('مباشراً', 1),\n",
       " ('نشرة', 1),\n",
       " ('الرياضية', 1),\n",
       " ('8:30', 1),\n",
       " ('\"العرب\"', 1),\n",
       " ('حمود', 1),\n",
       " ('📍', 1),\n",
       " ('https://t.co/oUstA9G7dM', 1)]"
      ]
     },
     "execution_count": 68,
     "metadata": {},
     "output_type": "execute_result"
    }
   ],
   "source": [
    "print(\"Least Common\")\n",
    "vocab.most_common()[-10:]"
   ]
  },
  {
   "cell_type": "code",
   "execution_count": 69,
   "id": "7bb04f57",
   "metadata": {},
   "outputs": [
    {
     "name": "stdout",
     "output_type": "stream",
     "text": [
      "Most Common\n"
     ]
    },
    {
     "data": {
      "text/plain": [
       "[('من', 1906),\n",
       " ('في', 1610),\n",
       " ('.', 1105),\n",
       " ('و', 963),\n",
       " ('على', 913),\n",
       " ('الله', 787),\n",
       " ('ما', 769),\n",
       " ('لا', 656),\n",
       " ('،', 589),\n",
       " ('كل', 493)]"
      ]
     },
     "execution_count": 69,
     "metadata": {},
     "output_type": "execute_result"
    }
   ],
   "source": [
    "print(\"Most Common\")\n",
    "vocab.most_common(n=10)"
   ]
  },
  {
   "cell_type": "code",
   "execution_count": 70,
   "id": "6da16b27",
   "metadata": {},
   "outputs": [],
   "source": [
    "counts = list(vocab.values())"
   ]
  },
  {
   "cell_type": "code",
   "execution_count": 71,
   "id": "94ad5def",
   "metadata": {},
   "outputs": [
    {
     "data": {
      "image/png": "[encoded data removed]",
      "text/plain": [
       "<Figure size 1500x1200 with 1 Axes>"
      ]
     },
     "metadata": {},
     "output_type": "display_data"
    }
   ],
   "source": [
    "fig, ax = plt.subplots(figsize=(15, 12))\n",
    "\n",
    "sns.boxplot(y=counts, ax=ax)\n",
    "ax.set_title(\"Word Count\", fontdict=dict(size=15), pad=15)\n",
    "\n",
    "plt.show()"
   ]
  },
  {
   "cell_type": "code",
   "execution_count": 72,
   "id": "f2e2de60",
   "metadata": {},
   "outputs": [],
   "source": [
    "stop_words = stopwords.words(\"arabic\")\n",
    "all_words_pruned = [word for tweet in data[\"Tweet\"] for word in tweet.split(\" \") if word not in stop_words]"
   ]
  },
  {
   "cell_type": "code",
   "execution_count": 73,
   "id": "30671a7f",
   "metadata": {},
   "outputs": [],
   "source": [
    "pruned_vocab = Counter(all_words_pruned) "
   ]
  },
  {
   "cell_type": "code",
   "execution_count": 74,
   "id": "2f6bb2fc",
   "metadata": {},
   "outputs": [
    {
     "data": {
      "image/png": "[encoded data removed]",
      "text/plain": [
       "<Figure size 1500x1200 with 1 Axes>"
      ]
     },
     "metadata": {},
     "output_type": "display_data"
    }
   ],
   "source": [
    "counts = list(pruned_vocab.values())\n",
    "\n",
    "fig, ax = plt.subplots(figsize=(15, 12))\n",
    "\n",
    "sns.boxplot(y=counts, ax=ax)\n",
    "ax.set_title(\"Word Count\", fontdict=dict(size=15), pad=15)\n",
    "\n",
    "plt.show()"
   ]
  },
  {
   "cell_type": "markdown",
   "id": "33fa6170",
   "metadata": {},
   "source": [
    "> Removing stop words still produces a box plot with this many outliers indicates that more cleaning is necessary"
   ]
  },
  {
   "cell_type": "markdown",
   "id": "35ce6e90",
   "metadata": {},
   "source": [
    "# Text Cleaning"
   ]
  },
  {
   "cell_type": "code",
   "execution_count": 75,
   "id": "037a57b2",
   "metadata": {},
   "outputs": [
    {
     "data": {
      "text/plain": [
       "'هدف لا نراه كل يوم . #LEITOT . @oki_q8e شوف ابن اختي شوف 🤗 https://t.co/ZmVMl4sOqA'"
      ]
     },
     "execution_count": 75,
     "metadata": {},
     "output_type": "execute_result"
    }
   ],
   "source": [
    "sample = data.iloc[102][\"Tweet\"]\n",
    "sample"
   ]
  },
  {
   "cell_type": "code",
   "execution_count": 76,
   "id": "d5360971",
   "metadata": {},
   "outputs": [],
   "source": [
    "def test_clean_fn(fn: Callable, sample: str) -> str:\n",
    "    print(sample, fn(sample), sep=\"\\n\")"
   ]
  },
  {
   "cell_type": "markdown",
   "id": "17cc9fa5",
   "metadata": {},
   "source": [
    "## Stop Words"
   ]
  },
  {
   "cell_type": "code",
   "execution_count": 77,
   "id": "bb53be6d",
   "metadata": {},
   "outputs": [
    {
     "name": "stdout",
     "output_type": "stream",
     "text": [
      "هدف لا نراه كل يوم . #LEITOT . @oki_q8e شوف ابن اختي شوف 🤗 https://t.co/ZmVMl4sOqA\n",
      "هدف نراه يوم . #LEITOT . @oki_q8e شوف ابن اختي شوف 🤗 https://t.co/ZmVMl4sOqA\n"
     ]
    }
   ],
   "source": [
    "stop_words = stopwords.words(\"arabic\")\n",
    "\n",
    "def remove_stop_words(text: str) -> str:\n",
    "    return \" \".join([word for word in text.split(\" \") if word not in stop_words])\n",
    "\n",
    "\n",
    "test_clean_fn(remove_stop_words, sample)"
   ]
  },
  {
   "cell_type": "markdown",
   "id": "ac725abc",
   "metadata": {},
   "source": [
    "## Remove Hashtags\n",
    "\n",
    "[Regex to remove hashtag](https://regexr.com/3gkpo)"
   ]
  },
  {
   "cell_type": "code",
   "execution_count": 78,
   "id": "5db71424",
   "metadata": {},
   "outputs": [
    {
     "name": "stdout",
     "output_type": "stream",
     "text": [
      "هدف لا نراه كل يوم . #LEITOT . @oki_q8e شوف ابن اختي شوف 🤗 https://t.co/ZmVMl4sOqA\n",
      "هدف لا نراه كل يوم .  . @oki_q8e شوف ابن اختي شوف 🤗 https://t.co/ZmVMl4sOqA\n"
     ]
    },
    {
     "name": "stderr",
     "output_type": "stream",
     "text": [
      "<>:1: SyntaxWarning: invalid escape sequence '\\w'\n",
      "<>:1: SyntaxWarning: invalid escape sequence '\\w'\n",
      "/var/folders/tg/jhy0d12925ldvjghgc440mjh0000gn/T/ipykernel_77524/3416331774.py:1: SyntaxWarning: invalid escape sequence '\\w'\n",
      "  hashtag_re = re.compile(pattern=\"#[\\w\\d]+\")\n"
     ]
    }
   ],
   "source": [
    "hashtag_re = re.compile(pattern=\"#[\\w\\d]+\")\n",
    "\n",
    "def remove_hashtag(text: str) -> str:\n",
    "    return hashtag_re.sub(repl=\"\", string=text)\n",
    "\n",
    "test_clean_fn(remove_hashtag, sample)"
   ]
  },
  {
   "cell_type": "markdown",
   "id": "a11b66ae",
   "metadata": {},
   "source": [
    "## Remove Mention"
   ]
  },
  {
   "cell_type": "code",
   "execution_count": 79,
   "id": "43febc0d",
   "metadata": {},
   "outputs": [
    {
     "name": "stdout",
     "output_type": "stream",
     "text": [
      "هدف لا نراه كل يوم . #LEITOT . @oki_q8e شوف ابن اختي شوف 🤗 https://t.co/ZmVMl4sOqA\n",
      "هدف لا نراه كل يوم . #LEITOT .  شوف ابن اختي شوف 🤗 https://t.co/ZmVMl4sOqA\n"
     ]
    },
    {
     "name": "stderr",
     "output_type": "stream",
     "text": [
      "<>:1: SyntaxWarning: invalid escape sequence '\\B'\n",
      "<>:1: SyntaxWarning: invalid escape sequence '\\B'\n",
      "/var/folders/tg/jhy0d12925ldvjghgc440mjh0000gn/T/ipykernel_77524/289649021.py:1: SyntaxWarning: invalid escape sequence '\\B'\n",
      "  mention_re = re.compile(\"\\B@\\w+\")\n"
     ]
    }
   ],
   "source": [
    "mention_re = re.compile(\"\\B@\\w+\")\n",
    "def remove_mention(text: str) -> str:\n",
    "    # TODO: Look for a suitable way to remove mentions from a text\n",
    "    # TIP: Look for a regex expression\n",
    "    return mention_re.sub(repl=\"\", string=text)\n",
    "    \n",
    "test_clean_fn(remove_mention, sample)"
   ]
  },
  {
   "cell_type": "markdown",
   "id": "c2511c98",
   "metadata": {},
   "source": [
    "## Remove Punctuation Marks"
   ]
  },
  {
   "cell_type": "code",
   "execution_count": 80,
   "id": "498f76de",
   "metadata": {},
   "outputs": [
    {
     "name": "stdout",
     "output_type": "stream",
     "text": [
      "هدف لا نراه كل يوم . #LEITOT . @oki_q8e شوف ابن اختي شوف 🤗 https://t.co/ZmVMl4sOqA\n",
      "هدف لا نراه كل يوم  LEITOT  okiq8e شوف ابن اختي شوف 🤗 httpstcoZmVMl4sOqA\n"
     ]
    }
   ],
   "source": [
    "punc_re = re.compile(r\"\"\"[!\"#$%&\\'()*+,-./:;<=>?@[\\\\\\]^_`{|}~،؟…«“\\\":\\\"…”]\"\"\")\n",
    "def remove_punctation(text: str) -> str:\n",
    "    # TODO: Look for a suitable way to remove punctiation marks from a text\n",
    "    # TIP: Look for a regex expression\n",
    "    return punc_re.sub(repl=\"\", string=text)\n",
    "    \n",
    "test_clean_fn(remove_punctation, sample)"
   ]
  },
  {
   "cell_type": "markdown",
   "id": "a44c7d43",
   "metadata": {},
   "source": [
    "## Remove HTTP URLs"
   ]
  },
  {
   "cell_type": "code",
   "execution_count": 81,
   "id": "5041cb1c",
   "metadata": {},
   "outputs": [
    {
     "name": "stdout",
     "output_type": "stream",
     "text": [
      "هدف لا نراه كل يوم . #LEITOT . @oki_q8e شوف ابن اختي شوف 🤗 https://t.co/ZmVMl4sOqA\n",
      "هدف لا نراه كل يوم . #LEITOT . @oki_q8e شوف ابن اختي شوف 🤗 \n"
     ]
    }
   ],
   "source": [
    "url_re = re.compile(r\"https?:\\/\\/(www\\.)?[-a-zA-Z0-9@:%._\\+~#=]{1,256}\\.[a-zA-Z0-9()]{1,6}\\b([-a-zA-Z0-9()@:%_\\+.~#?&//=]*)\")\n",
    "def remove_urls(text: str) -> str:\n",
    "    # TODO: Look for a suitable way to remove urls from a text\n",
    "    # TIP: Look for a regex expression\n",
    "    return url_re.sub(repl=\"\", string=text)\n",
    "    \n",
    "test_clean_fn(remove_urls, sample)"
   ]
  },
  {
   "cell_type": "markdown",
   "id": "2c443447",
   "metadata": {},
   "source": [
    "## Remove Diactrics"
   ]
  },
  {
   "cell_type": "code",
   "execution_count": 82,
   "id": "6e93bf9f",
   "metadata": {},
   "outputs": [
    {
     "name": "stdout",
     "output_type": "stream",
     "text": [
      "\"أنا أؤمن بأن الانسان ينطفئ جماله عند ابتعاد من يحب ، حتى بريق العيون يختفي فيصبح ذابلاً منطفئًا، يتحول ربيعه الى خريف.\". @gbraniiat\n",
      "\"أنا أؤمن بأن الانسان ينطفئ جماله عند ابتعاد من يحب ، حتى بريق العيون يختفي فيصبح ذابلا منطفئا، يتحول ربيعه الى خريف.\". @gbraniiat\n"
     ]
    }
   ],
   "source": [
    "diactircs_re = re.compile(\"[\\u064B-\\u0652]\")\n",
    "\n",
    "def remove_diactrics(text: str) -> str:\n",
    "    # TODO: Implement this function using the diactrics_re\n",
    "    return diactircs_re.sub(repl=\"\", string=text)\n",
    "    \n",
    "test_clean_fn(remove_diactrics, data.iloc[0][\"Tweet\"])"
   ]
  },
  {
   "cell_type": "markdown",
   "id": "6be2e6bc",
   "metadata": {},
   "source": [
    "## Remove Numbers"
   ]
  },
  {
   "cell_type": "code",
   "execution_count": 83,
   "id": "f7b0da0d",
   "metadata": {},
   "outputs": [
    {
     "name": "stdout",
     "output_type": "stream",
     "text": [
      "@GundiOmer @WahidBarzane 6- برامج واجندات لسب جميع صحابة رسول الله صل الله عليه وسلم 7- تدمير منطقة الشرق الاوسط و… https://t.co/Mey9HB1979\n",
      "@GundiOmer @WahidBarzane - برامج واجندات لسب جميع صحابة رسول الله صل الله عليه وسلم - تدمير منطقة الشرق الاوسط و… https://t.co/MeyHB\n"
     ]
    },
    {
     "name": "stderr",
     "output_type": "stream",
     "text": [
      "<>:1: SyntaxWarning: invalid escape sequence '\\d'\n",
      "<>:1: SyntaxWarning: invalid escape sequence '\\d'\n",
      "/var/folders/tg/jhy0d12925ldvjghgc440mjh0000gn/T/ipykernel_77524/750006174.py:1: SyntaxWarning: invalid escape sequence '\\d'\n",
      "  numbers_re = re.compile(\"\\d\")\n"
     ]
    }
   ],
   "source": [
    "numbers_re = re.compile(\"\\d\")\n",
    "def remove_numbers(text: str) -> str:\n",
    "    # TODO: Implement remove numbers\n",
    "    return numbers_re.sub(repl=\"\", string=text)\n",
    "    \n",
    "test_clean_fn(remove_numbers, data.iloc[65][\"Tweet\"])"
   ]
  },
  {
   "cell_type": "markdown",
   "id": "20fb67c0",
   "metadata": {},
   "source": [
    "## Remove English Characters"
   ]
  },
  {
   "cell_type": "code",
   "execution_count": 84,
   "id": "df919311",
   "metadata": {},
   "outputs": [],
   "source": [
    "english_chars_re = re.compile(\"[A-Za-z]\")\n",
    "def remove_english_characters(text: str) -> str:\n",
    "    # TODO: Implement remove english characters\n",
    "    return english_chars_re.sub(repl=\"\", string=text)"
   ]
  },
  {
   "cell_type": "markdown",
   "id": "52b04cf9",
   "metadata": {},
   "source": [
    "## Remove Most and Least Common Words"
   ]
  },
  {
   "cell_type": "code",
   "execution_count": 85,
   "id": "bbdfd3ba",
   "metadata": {},
   "outputs": [],
   "source": [
    "stop_words_pruned = [remove_stop_words(tweet) for tweet in data[\"Tweet\"]]\n",
    "\n",
    "pruned_all_words = [word for tweet in stop_words_pruned for word in tweet.split(\" \")]\n",
    "\n",
    "pruned_vocab = Counter(pruned_all_words)\n"
   ]
  },
  {
   "cell_type": "code",
   "execution_count": 86,
   "id": "3fc270aa",
   "metadata": {},
   "outputs": [],
   "source": [
    "## TODO: define a list of least occurent words\n",
    "rare_words = []\n",
    "common_words = [word for word, count in pruned_vocab.items() if count > 100]\n",
    "\n",
    "def remove_rare_words(text: str) -> str:\n",
    "    return \" \".join([word for word in text.split(\" \") if word not in rare_words])\n",
    "    \n",
    "def remove_common_words(text: str) -> str:\n",
    "    # TODO: Implement\n",
    "    return \" \".join([word for word in text.split(\" \") if word not in common_words])"
   ]
  },
  {
   "cell_type": "markdown",
   "id": "6e60e610",
   "metadata": {},
   "source": [
    "## Add Space Around Emojis"
   ]
  },
  {
   "cell_type": "code",
   "execution_count": 93,
   "id": "3f660fe8",
   "metadata": {},
   "outputs": [
    {
     "name": "stdout",
     "output_type": "stream",
     "text": [
      "طبعا😂✋🏻🌹🌹🌹\n",
      "طبعا 😂  ✋  🏻  🌹  🌹  🌹 \n"
     ]
    }
   ],
   "source": [
    "\n",
    "def space_around_emojis(text: str) -> str:\n",
    "    chars = [' ' + char + ' ' if char in emoji.EMOJI_DATA else char for char in text]\n",
    "    return ''.join(chars)\n",
    "\n",
    "test_clean_fn(space_around_emojis, \"طبعا😂✋🏻🌹🌹🌹\")"
   ]
  },
  {
   "cell_type": "markdown",
   "id": "bf6680a5",
   "metadata": {},
   "source": [
    "## Remove Multiple Whitespace"
   ]
  },
  {
   "cell_type": "code",
   "execution_count": 94,
   "id": "13b739ff",
   "metadata": {},
   "outputs": [
    {
     "name": "stderr",
     "output_type": "stream",
     "text": [
      "<>:1: SyntaxWarning: invalid escape sequence '\\s'\n",
      "<>:1: SyntaxWarning: invalid escape sequence '\\s'\n",
      "/var/folders/tg/jhy0d12925ldvjghgc440mjh0000gn/T/ipykernel_77524/1436762447.py:1: SyntaxWarning: invalid escape sequence '\\s'\n",
      "  multiple_space_re = re.compile(\"\\s{2,}\")\n"
     ]
    }
   ],
   "source": [
    "multiple_space_re = re.compile(\"\\s{2,}\")\n",
    "def remove_multiple_whitespace(text: str) -> str:\n",
    "    return multiple_space_re.sub(repl=\" \", string=text)"
   ]
  },
  {
   "cell_type": "markdown",
   "id": "96c69538",
   "metadata": {},
   "source": [
    "## Clean All"
   ]
  },
  {
   "cell_type": "code",
   "execution_count": 106,
   "id": "b6f7548a",
   "metadata": {},
   "outputs": [],
   "source": [
    "def clean_all(text: str) -> str:\n",
    "    text = space_around_emojis(text)\n",
    "    text = remove_urls(text)\n",
    "    text = remove_hashtag(text)\n",
    "    text = remove_mention(text)\n",
    "    text = remove_punctation(text)\n",
    "    text = remove_numbers(text)\n",
    "    text = remove_diactrics(text)\n",
    "    text = remove_english_characters(text)\n",
    "    text = remove_stop_words(text)\n",
    "    text = remove_common_words(text)\n",
    "    text = remove_rare_words(text)\n",
    "    text = remove_multiple_whitespace(text)\n",
    "    ## To remove trailing and leading whitespaces\n",
    "    text = text.strip()\n",
    "    \n",
    "    # remove Arabic diacritics (harakat)\n",
    "    text = dediac_ar(text)\n",
    "\n",
    "    # basic Arabic character normalization using CharMapper\n",
    "    arabic_norm_mapper = CharMapper({\n",
    "        'أ': 'ا',\n",
    "        'إ': 'ا',\n",
    "        'آ': 'ا',\n",
    "        'ٱ': 'ا',\n",
    "        'ى': 'ي',\n",
    "        'ئ': 'ي',\n",
    "        'ؤ': 'و'\n",
    "    })\n",
    "    text = arabic_norm_mapper.map_string(text)\n",
    "    \n",
    "    \n",
    "    return text"
   ]
  },
  {
   "cell_type": "code",
   "execution_count": 107,
   "id": "82540862",
   "metadata": {},
   "outputs": [],
   "source": [
    "data[\"clean_text\"] = data[\"Tweet\"].apply(clean_all)"
   ]
  },
  {
   "cell_type": "markdown",
   "id": "b2035557",
   "metadata": {},
   "source": [
    "# Text Normalisation"
   ]
  },
  {
   "cell_type": "code",
   "execution_count": 108,
   "id": "2c09b747",
   "metadata": {},
   "outputs": [],
   "source": [
    "# https://www.nltk.org/_modules/nltk/stem/isri.html\n",
    "\n",
    "stemmer = ISRIStemmer()"
   ]
  },
  {
   "cell_type": "code",
   "execution_count": 109,
   "id": "ec36101c",
   "metadata": {},
   "outputs": [
    {
     "data": {
      "text/plain": [
       "'ذهب'"
      ]
     },
     "execution_count": 109,
     "metadata": {},
     "output_type": "execute_result"
    }
   ],
   "source": [
    "stemmer.stem(\"يذهبون\")"
   ]
  },
  {
   "cell_type": "code",
   "execution_count": 110,
   "id": "628c379a",
   "metadata": {},
   "outputs": [],
   "source": [
    "stemmed_data = []\n",
    "for sample in data[\"clean_text\"]:\n",
    "    words = sample.split(\" \")\n",
    "    stemmed_words = [stemmer.stem(word) for word in words]\n",
    "    stemmed_data.append(\" \".join(stemmed_words))\n",
    "\n"
   ]
  },
  {
   "cell_type": "code",
   "execution_count": 111,
   "id": "bfe99bcd",
   "metadata": {},
   "outputs": [
    {
     "name": "stdout",
     "output_type": "stream",
     "text": [
      "اومن بان الانسان ينطفي جماله ابتعاد يحب بريق العيون يختفي فيصبح ذابلا منطفيا يتحول ربيعه خريف\n",
      "اوم بان انس نطف جمل بعد يحب برق عين خفي صبح ذبل نطف تحل ربع خرف\n"
     ]
    }
   ],
   "source": [
    "print(data[\"clean_text\"][0]+\"\\n\"+ stemmed_data[0])"
   ]
  },
  {
   "cell_type": "code",
   "execution_count": 112,
   "id": "4217cb66",
   "metadata": {},
   "outputs": [],
   "source": [
    "data[\"clean_stemmed\"] = stemmed_data"
   ]
  },
  {
   "cell_type": "markdown",
   "id": "323a9ac5",
   "metadata": {},
   "source": [
    "# Post Processsing Exploration"
   ]
  },
  {
   "cell_type": "code",
   "execution_count": 113,
   "id": "103d0412",
   "metadata": {},
   "outputs": [],
   "source": [
    "# TODO: Plot a box plot of the remaining unique tokens\n",
    "all_words = [word for tweet in stemmed_data for word in tweet.split(\" \")]\n",
    "\n",
    "vocab = Counter(all_words)\n",
    "\n",
    "counts = list(vocab.values())"
   ]
  },
  {
   "cell_type": "code",
   "execution_count": 114,
   "id": "a25ff44b",
   "metadata": {},
   "outputs": [
    {
     "data": {
      "image/png": "[encoded data removed]",
      "text/plain": [
       "<Figure size 1500x1200 with 1 Axes>"
      ]
     },
     "metadata": {},
     "output_type": "display_data"
    }
   ],
   "source": [
    "fig, ax = plt.subplots(figsize=(15, 12))\n",
    "\n",
    "sns.boxplot(y=counts, ax=ax)\n",
    "ax.set_title(\"Word Count\", fontdict=dict(size=15), pad=15)\n",
    "\n",
    "plt.show()"
   ]
  },
  {
   "cell_type": "code",
   "execution_count": 115,
   "id": "00c054b8",
   "metadata": {},
   "outputs": [
    {
     "data": {
      "text/plain": [
       "[('قدم', 394),\n",
       " ('علم', 381),\n",
       " ('سعد', 375),\n",
       " ('سلم', 353),\n",
       " ('قلب', 315),\n",
       " ('حكم', 296),\n",
       " ('جمع', 272),\n",
       " ('عمل', 272),\n",
       " ('😂', 267),\n",
       " ('كلم', 245)]"
      ]
     },
     "execution_count": 115,
     "metadata": {},
     "output_type": "execute_result"
    }
   ],
   "source": [
    "vocab.most_common(n=10)"
   ]
  },
  {
   "cell_type": "code",
   "execution_count": 116,
   "id": "f66f3c99",
   "metadata": {},
   "outputs": [
    {
     "data": {
      "text/plain": [
       "6571"
      ]
     },
     "execution_count": 116,
     "metadata": {},
     "output_type": "execute_result"
    }
   ],
   "source": [
    "len(vocab)"
   ]
  },
  {
   "cell_type": "markdown",
   "id": "afe39c4e",
   "metadata": {},
   "source": [
    "# Save New Data"
   ]
  },
  {
   "cell_type": "code",
   "execution_count": 117,
   "id": "64bb3fdb",
   "metadata": {},
   "outputs": [],
   "source": [
    "data_dir = os.path.join(os.curdir, \"data\")\n",
    "filepath = os.path.join(data_dir, \"clean-tweets.tsv\")\n",
    "\n",
    "data.to_csv(path_or_buf=filepath, sep=\"\\t\", index=False)"
   ]
  }
 ],
 "metadata": {
  "kernelspec": {
   "display_name": "pytorch",
   "language": "python",
   "name": "python3"
  },
  "language_info": {
   "codemirror_mode": {
    "name": "ipython",
    "version": 3
   },
   "file_extension": ".py",
   "mimetype": "text/x-python",
   "name": "python",
   "nbconvert_exporter": "python",
   "pygments_lexer": "ipython3",
   "version": "3.12.10"
  }
 },
 "nbformat": 4,
 "nbformat_minor": 5
}
