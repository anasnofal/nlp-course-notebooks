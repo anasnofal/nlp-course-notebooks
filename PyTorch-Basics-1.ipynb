{
 "cells": [
  {
   "cell_type": "code",
   "execution_count": 38,
   "id": "02f4b7ab",
   "metadata": {},
   "outputs": [],
   "source": [
    "import os\n",
    "import numpy as np\n",
    "import torch"
   ]
  },
  {
   "cell_type": "markdown",
   "id": "dbf424d6",
   "metadata": {},
   "source": [
    "# PyTorch Basics - Tensors in PyTorch"
   ]
  },
  {
   "cell_type": "markdown",
   "id": "9de399f9",
   "metadata": {},
   "source": [
    "## Creating Tensors"
   ]
  },
  {
   "cell_type": "markdown",
   "id": "12b9472b",
   "metadata": {},
   "source": [
    "### Manually"
   ]
  },
  {
   "cell_type": "code",
   "execution_count": 39,
   "id": "15eecfae",
   "metadata": {},
   "outputs": [
    {
     "name": "stdout",
     "output_type": "stream",
     "text": [
      "tensor([[1, 2],\n",
      "        [3, 4]])\n"
     ]
    }
   ],
   "source": [
    "a = torch.tensor([[1, 2], [3, 4]], dtype=torch.int64, requires_grad=False, device=\"cpu\", pin_memory=False)\n",
    "print(a)"
   ]
  },
  {
   "cell_type": "markdown",
   "id": "61c77a86",
   "metadata": {},
   "source": [
    "### From Numpy"
   ]
  },
  {
   "cell_type": "code",
   "execution_count": 40,
   "id": "4e7f3aec",
   "metadata": {},
   "outputs": [
    {
     "name": "stdout",
     "output_type": "stream",
     "text": [
      "tensor([[8, 7, 1, 5, 3],\n",
      "        [3, 4, 0, 6, 9],\n",
      "        [8, 0, 1, 0, 9],\n",
      "        [5, 6, 9, 9, 0],\n",
      "        [6, 6, 6, 2, 6]])\n"
     ]
    }
   ],
   "source": [
    "a = np.random.randint(low=0, high=10, size=(5, 5)) \n",
    "a = torch.from_numpy(a)\n",
    "print(a)"
   ]
  },
  {
   "cell_type": "markdown",
   "id": "aac6fb13",
   "metadata": {},
   "source": [
    "### Generate Random "
   ]
  },
  {
   "cell_type": "code",
   "execution_count": 41,
   "id": "b670b07d",
   "metadata": {},
   "outputs": [
    {
     "name": "stdout",
     "output_type": "stream",
     "text": [
      "Random Numbers:\n",
      "tensor([[7, 1, 5, 2, 9],\n",
      "        [5, 9, 4, 7, 9],\n",
      "        [2, 1, 6, 0, 1],\n",
      "        [8, 2, 6, 7, 1],\n",
      "        [7, 9, 6, 6, 0]])\n",
      "\n",
      "\n",
      "Normal distribution:\n",
      "tensor([[ 0.6421, -0.0464,  0.5318, -1.1109,  1.9069],\n",
      "        [-1.1127, -0.1155, -0.6312, -0.8137,  0.6080],\n",
      "        [ 0.4910,  0.6079,  0.8873, -0.9288,  0.4372],\n",
      "        [ 1.0729,  0.8284,  0.8823, -0.3106, -1.6263],\n",
      "        [ 0.0508, -1.3158,  1.5849, -0.7185,  1.6096]])\n",
      "\n"
     ]
    }
   ],
   "source": [
    "# Create random integers\n",
    "a = torch.randint(low=0, high=10, size=(5, 5))\n",
    "print(f\"Random Numbers:\\n{a}\\n\\n\")\n",
    "# Normal distribution\n",
    "a = torch.randn((5, 5))\n",
    "print(f\"Normal distribution:\\n{a}\\n\")"
   ]
  },
  {
   "cell_type": "markdown",
   "id": "ed5bf6ed",
   "metadata": {},
   "source": [
    "### Specifying the Data Type"
   ]
  },
  {
   "cell_type": "code",
   "execution_count": 42,
   "id": "c0570a5e",
   "metadata": {},
   "outputs": [
    {
     "name": "stdout",
     "output_type": "stream",
     "text": [
      "Random Float64:\n",
      "tensor([[-1.1425,  1.2393, -0.5514,  1.2568,  0.8067],\n",
      "        [-0.2907, -0.8787,  0.8167,  0.6535,  1.2286],\n",
      "        [-2.3156, -0.1284,  0.4144, -0.5583, -0.4511],\n",
      "        [-0.6270, -1.8702,  0.8138,  0.0251, -0.0364],\n",
      "        [-0.2156,  0.6797, -0.8549, -0.1414,  1.3385]], dtype=torch.float64)\n",
      "\n",
      "Random Float32:\n",
      "tensor([[-1.1230, -0.7131,  1.4695, -1.5100,  0.1988],\n",
      "        [ 0.3131, -0.4539,  0.4156, -2.1898, -0.9304],\n",
      "        [ 0.5455,  0.2041, -0.0978,  0.3432,  2.3561],\n",
      "        [ 0.1273, -0.8996, -0.8928,  2.1836,  1.3041],\n",
      "        [-0.0843, -0.2349,  0.7035,  0.5674,  1.0699]])\n",
      "\n"
     ]
    }
   ],
   "source": [
    "a = torch.randn((5, 5), dtype=torch.float64)\n",
    "print(f\"Random Float64:\\n{a}\\n\")\n",
    "\n",
    "a = torch.randn((5, 5), dtype=torch.float32)\n",
    "print(f\"Random Float32:\\n{a}\\n\")"
   ]
  },
  {
   "cell_type": "markdown",
   "id": "226ddff7",
   "metadata": {},
   "source": [
    "#### Question\n",
    "\n",
    "1. What's the difference between float64 and float32\n",
    "\n",
    "\n",
    "2. Why would you choose one over the other?"
   ]
  },
  {
   "cell_type": "markdown",
   "id": "5c1f7dc6",
   "metadata": {},
   "source": [
    "### Generate Zeros/Ones"
   ]
  },
  {
   "cell_type": "code",
   "execution_count": 43,
   "id": "0f7ed2d1",
   "metadata": {},
   "outputs": [
    {
     "name": "stdout",
     "output_type": "stream",
     "text": [
      "Zeros:\n",
      "tensor([[[0., 0., 0., 0., 0.],\n",
      "         [0., 0., 0., 0., 0.],\n",
      "         [0., 0., 0., 0., 0.],\n",
      "         [0., 0., 0., 0., 0.],\n",
      "         [0., 0., 0., 0., 0.]],\n",
      "\n",
      "        [[0., 0., 0., 0., 0.],\n",
      "         [0., 0., 0., 0., 0.],\n",
      "         [0., 0., 0., 0., 0.],\n",
      "         [0., 0., 0., 0., 0.],\n",
      "         [0., 0., 0., 0., 0.]],\n",
      "\n",
      "        [[0., 0., 0., 0., 0.],\n",
      "         [0., 0., 0., 0., 0.],\n",
      "         [0., 0., 0., 0., 0.],\n",
      "         [0., 0., 0., 0., 0.],\n",
      "         [0., 0., 0., 0., 0.]],\n",
      "\n",
      "        [[0., 0., 0., 0., 0.],\n",
      "         [0., 0., 0., 0., 0.],\n",
      "         [0., 0., 0., 0., 0.],\n",
      "         [0., 0., 0., 0., 0.],\n",
      "         [0., 0., 0., 0., 0.]],\n",
      "\n",
      "        [[0., 0., 0., 0., 0.],\n",
      "         [0., 0., 0., 0., 0.],\n",
      "         [0., 0., 0., 0., 0.],\n",
      "         [0., 0., 0., 0., 0.],\n",
      "         [0., 0., 0., 0., 0.]]])\n",
      "\n",
      "\n",
      "Ones:\n",
      "tensor([[[1., 1., 1., 1., 1.],\n",
      "         [1., 1., 1., 1., 1.],\n",
      "         [1., 1., 1., 1., 1.],\n",
      "         [1., 1., 1., 1., 1.],\n",
      "         [1., 1., 1., 1., 1.]],\n",
      "\n",
      "        [[1., 1., 1., 1., 1.],\n",
      "         [1., 1., 1., 1., 1.],\n",
      "         [1., 1., 1., 1., 1.],\n",
      "         [1., 1., 1., 1., 1.],\n",
      "         [1., 1., 1., 1., 1.]],\n",
      "\n",
      "        [[1., 1., 1., 1., 1.],\n",
      "         [1., 1., 1., 1., 1.],\n",
      "         [1., 1., 1., 1., 1.],\n",
      "         [1., 1., 1., 1., 1.],\n",
      "         [1., 1., 1., 1., 1.]],\n",
      "\n",
      "        [[1., 1., 1., 1., 1.],\n",
      "         [1., 1., 1., 1., 1.],\n",
      "         [1., 1., 1., 1., 1.],\n",
      "         [1., 1., 1., 1., 1.],\n",
      "         [1., 1., 1., 1., 1.]],\n",
      "\n",
      "        [[1., 1., 1., 1., 1.],\n",
      "         [1., 1., 1., 1., 1.],\n",
      "         [1., 1., 1., 1., 1.],\n",
      "         [1., 1., 1., 1., 1.],\n",
      "         [1., 1., 1., 1., 1.]]])\n"
     ]
    }
   ],
   "source": [
    "zeros = torch.zeros((5, 5, 5))\n",
    "print(f\"Zeros:\\n{zeros}\\n\\n\")\n",
    "\n",
    "ones = torch.ones((5, 5, 5))\n",
    "print(f\"Ones:\\n{ones}\")"
   ]
  },
  {
   "cell_type": "markdown",
   "id": "ca39286f",
   "metadata": {},
   "source": [
    "### Specify a Device"
   ]
  },
  {
   "cell_type": "markdown",
   "id": "e4b7094b",
   "metadata": {},
   "source": [
    "A device can either be the `CPU` (saved on RAM) or a `GPU` device (saved on its memory)\n",
    "\n",
    "`GPU` devices are denoted as `cuda:0` where the number following the cuda is the index of the GPU in case of multiple GPU devices available\n",
    "\n",
    "The following is a boilerplate code for determining the device to use\n"
   ]
  },
  {
   "cell_type": "code",
   "execution_count": 44,
   "id": "d473bd88",
   "metadata": {},
   "outputs": [
    {
     "name": "stdout",
     "output_type": "stream",
     "text": [
      "CUDA/GPU available: True\n"
     ]
    }
   ],
   "source": [
    "print(\"CUDA/GPU available:\", torch.backends.mps.is_available())"
   ]
  },
  {
   "cell_type": "code",
   "execution_count": 45,
   "id": "42bef9cb",
   "metadata": {},
   "outputs": [],
   "source": [
    "device = (\n",
    "    torch.device(\"mps\") if torch.backends.mps.is_available() else torch.device(\"cpu\")\n",
    ")"
   ]
  },
  {
   "cell_type": "markdown",
   "id": "abcaa15d",
   "metadata": {},
   "source": [
    "#### Notes\n",
    "1. Specifying the device as `cuda` is the standard when using a single device, multi-gpu training is usually handled by PyTorch or other supporting frameworks and packages\n",
    "\n",
    "\n",
    "2. PyTorch isn't limited to `cpu` or `cuda` as the device, suches as openCl and openGl, ..etc. But keep in mind PyTorch can be slower on these devices and they're intended for special cases "
   ]
  },
  {
   "cell_type": "code",
   "execution_count": 46,
   "id": "38b7c0cb",
   "metadata": {},
   "outputs": [
    {
     "name": "stdout",
     "output_type": "stream",
     "text": [
      "tensor([[[ 0.2655, -0.4082, -0.1934, -0.5825, -0.7249],\n",
      "         [ 0.0104,  2.0654, -0.0949, -1.3531, -0.0314],\n",
      "         [ 0.3501, -0.8953, -0.1801,  1.9642, -1.6430],\n",
      "         [ 0.6529, -0.0257, -0.2086,  1.4790,  0.3531],\n",
      "         [-0.3820, -0.8054, -0.6677,  1.0123,  1.2991]],\n",
      "\n",
      "        [[-0.7915,  0.1098,  0.2359, -1.1237, -1.1411],\n",
      "         [ 1.7585,  1.2164, -0.5669,  0.2683, -0.1893],\n",
      "         [ 0.2688,  0.8891,  0.8435, -0.0352, -0.1707],\n",
      "         [ 0.4964, -0.3999,  1.4465,  0.8469,  0.0987],\n",
      "         [-0.1174,  0.5912,  0.9966, -1.3441,  0.8958]],\n",
      "\n",
      "        [[-1.2511, -0.8010, -0.5928,  0.2148,  2.6458],\n",
      "         [ 0.0211, -1.9034, -1.8802,  0.7896, -0.8437],\n",
      "         [ 1.4681, -0.7512, -1.7511,  1.0434,  2.3964],\n",
      "         [ 0.5687, -1.0063,  0.8695,  1.6116, -0.5995],\n",
      "         [-0.3366, -0.4706, -1.1412,  0.5368, -1.8591]],\n",
      "\n",
      "        [[-1.0399,  2.3589,  0.4613, -0.8939,  0.5795],\n",
      "         [-1.6861,  0.2827,  0.2706,  0.7811, -0.2820],\n",
      "         [-0.2748,  2.3431,  0.9938, -1.5338, -2.4532],\n",
      "         [ 1.7891, -0.0040,  1.0525, -1.7609,  0.4070],\n",
      "         [-1.2312, -0.0317,  0.7160,  0.3312,  1.2389]],\n",
      "\n",
      "        [[-0.9555,  0.3950,  0.4398,  0.1098,  2.0230],\n",
      "         [-1.2070,  1.9596, -0.3703,  0.1945,  1.4613],\n",
      "         [-0.2926,  0.7022, -0.4485,  1.2087,  0.7532],\n",
      "         [ 0.4655,  0.4671, -1.6274, -0.5031,  2.1989],\n",
      "         [ 1.1266,  0.6546,  0.0459, -1.1633, -0.3704]]], device='mps:0')\n"
     ]
    }
   ],
   "source": [
    "a = torch.randn((5, 5, 5), device=device)\n",
    "print(a)"
   ]
  },
  {
   "cell_type": "markdown",
   "id": "17a37931",
   "metadata": {},
   "source": [
    "## Tensor Information"
   ]
  },
  {
   "cell_type": "markdown",
   "id": "c537042e",
   "metadata": {},
   "source": [
    "### Ndim and Shape"
   ]
  },
  {
   "cell_type": "code",
   "execution_count": 47,
   "id": "c25ee47a",
   "metadata": {},
   "outputs": [],
   "source": [
    "a = torch.randn((5, 5, 5), dtype=torch.float32)"
   ]
  },
  {
   "cell_type": "code",
   "execution_count": 48,
   "id": "929eef6c",
   "metadata": {},
   "outputs": [
    {
     "name": "stdout",
     "output_type": "stream",
     "text": [
      "ndmin:3\n",
      "shape:torch.Size([5, 5, 5])\n"
     ]
    }
   ],
   "source": [
    "print(f\"ndmin:{a.ndim}\")\n",
    "print(f\"shape:{a.shape}\")"
   ]
  },
  {
   "cell_type": "markdown",
   "id": "b2fb0f41",
   "metadata": {},
   "source": [
    "### Single value tensors"
   ]
  },
  {
   "cell_type": "code",
   "execution_count": 49,
   "id": "53be7816",
   "metadata": {},
   "outputs": [
    {
     "name": "stdout",
     "output_type": "stream",
     "text": [
      "Tensor:7\tType:<class 'torch.Tensor'>\n",
      "Value:7\tType:<class 'int'>\n"
     ]
    }
   ],
   "source": [
    "a = torch.tensor(7)\n",
    "\n",
    "print(f\"Tensor:{a}\\tType:{type(a)}\")\n",
    "print(f\"Value:{a.item()}\\tType:{type(a.item())}\")"
   ]
  },
  {
   "cell_type": "markdown",
   "id": "0616ff3d",
   "metadata": {},
   "source": [
    "### Data Type"
   ]
  },
  {
   "cell_type": "code",
   "execution_count": 50,
   "id": "d356c4e2",
   "metadata": {},
   "outputs": [
    {
     "data": {
      "text/plain": [
       "torch.int64"
      ]
     },
     "execution_count": 50,
     "metadata": {},
     "output_type": "execute_result"
    }
   ],
   "source": [
    "a.dtype"
   ]
  },
  {
   "cell_type": "markdown",
   "id": "666d406d",
   "metadata": {},
   "source": [
    "### Device"
   ]
  },
  {
   "cell_type": "code",
   "execution_count": 51,
   "id": "3ca61016",
   "metadata": {},
   "outputs": [
    {
     "data": {
      "text/plain": [
       "device(type='cpu')"
      ]
     },
     "execution_count": 51,
     "metadata": {},
     "output_type": "execute_result"
    }
   ],
   "source": [
    "a.device"
   ]
  },
  {
   "cell_type": "markdown",
   "id": "5065a8b7",
   "metadata": {},
   "source": [
    "## Tensor Operations"
   ]
  },
  {
   "cell_type": "markdown",
   "id": "c6cdd572",
   "metadata": {},
   "source": [
    "### Element Wise"
   ]
  },
  {
   "cell_type": "code",
   "execution_count": 52,
   "id": "c15076a5",
   "metadata": {},
   "outputs": [
    {
     "data": {
      "text/plain": [
       "tensor([3, 9, 3])"
      ]
     },
     "execution_count": 52,
     "metadata": {},
     "output_type": "execute_result"
    }
   ],
   "source": [
    "a = torch.randint(low=0, high=10, size=(3, ))\n",
    "a"
   ]
  },
  {
   "cell_type": "code",
   "execution_count": 53,
   "id": "74a1eda2",
   "metadata": {},
   "outputs": [
    {
     "data": {
      "text/plain": [
       "tensor([ 8, 14,  8])"
      ]
     },
     "execution_count": 53,
     "metadata": {},
     "output_type": "execute_result"
    }
   ],
   "source": [
    "a + 5"
   ]
  },
  {
   "cell_type": "code",
   "execution_count": 54,
   "id": "9b06e6d9",
   "metadata": {},
   "outputs": [
    {
     "data": {
      "text/plain": [
       "tensor([15, 45, 15])"
      ]
     },
     "execution_count": 54,
     "metadata": {},
     "output_type": "execute_result"
    }
   ],
   "source": [
    "a * 5"
   ]
  },
  {
   "cell_type": "code",
   "execution_count": 55,
   "id": "48922dc7",
   "metadata": {},
   "outputs": [
    {
     "data": {
      "text/plain": [
       "tensor([0.6000, 1.8000, 0.6000])"
      ]
     },
     "execution_count": 55,
     "metadata": {},
     "output_type": "execute_result"
    }
   ],
   "source": [
    "a / 5"
   ]
  },
  {
   "cell_type": "code",
   "execution_count": 56,
   "id": "4b25340b",
   "metadata": {},
   "outputs": [
    {
     "data": {
      "text/plain": [
       "tensor([4, 6, 6])"
      ]
     },
     "execution_count": 56,
     "metadata": {},
     "output_type": "execute_result"
    }
   ],
   "source": [
    "b = torch.randint(low=0, high=10, size=(3, ))\n",
    "b"
   ]
  },
  {
   "cell_type": "code",
   "execution_count": 57,
   "id": "4e82c197",
   "metadata": {},
   "outputs": [
    {
     "data": {
      "text/plain": [
       "tensor([12, 54, 18])"
      ]
     },
     "execution_count": 57,
     "metadata": {},
     "output_type": "execute_result"
    }
   ],
   "source": [
    "a * b"
   ]
  },
  {
   "cell_type": "code",
   "execution_count": 58,
   "id": "a52e47e1",
   "metadata": {},
   "outputs": [
    {
     "data": {
      "text/plain": [
       "tensor([12, 54, 18])"
      ]
     },
     "execution_count": 58,
     "metadata": {},
     "output_type": "execute_result"
    }
   ],
   "source": [
    "torch.mul(a, b)"
   ]
  },
  {
   "cell_type": "code",
   "execution_count": 59,
   "id": "7fedc194",
   "metadata": {},
   "outputs": [
    {
     "data": {
      "text/plain": [
       "tensor([0.7500, 1.5000, 0.5000])"
      ]
     },
     "execution_count": 59,
     "metadata": {},
     "output_type": "execute_result"
    }
   ],
   "source": [
    "torch.div(a, b)"
   ]
  },
  {
   "cell_type": "markdown",
   "id": "44a86b35",
   "metadata": {},
   "source": [
    "## Operations"
   ]
  },
  {
   "cell_type": "markdown",
   "id": "30f85718",
   "metadata": {},
   "source": [
    "### Vector Operations"
   ]
  },
  {
   "cell_type": "code",
   "execution_count": 60,
   "id": "e48ecf50",
   "metadata": {},
   "outputs": [],
   "source": [
    "a = torch.randint(low=0, high=10, size=(3, ))\n",
    "b = torch.randint(low=0, high=10, size=(3, ))"
   ]
  },
  {
   "cell_type": "code",
   "execution_count": 61,
   "id": "ade1198e",
   "metadata": {},
   "outputs": [
    {
     "data": {
      "text/plain": [
       "tensor([9, 2, 6])"
      ]
     },
     "execution_count": 61,
     "metadata": {},
     "output_type": "execute_result"
    }
   ],
   "source": [
    "a"
   ]
  },
  {
   "cell_type": "code",
   "execution_count": 62,
   "id": "8e4f5a22",
   "metadata": {},
   "outputs": [
    {
     "data": {
      "text/plain": [
       "tensor([5, 1, 2])"
      ]
     },
     "execution_count": 62,
     "metadata": {},
     "output_type": "execute_result"
    }
   ],
   "source": [
    "b"
   ]
  },
  {
   "cell_type": "code",
   "execution_count": 63,
   "id": "691b55fe",
   "metadata": {},
   "outputs": [
    {
     "data": {
      "text/plain": [
       "(tensor(59), tensor(59))"
      ]
     },
     "execution_count": 63,
     "metadata": {},
     "output_type": "execute_result"
    }
   ],
   "source": [
    "# dot product of two vectors\n",
    "torch.dot(a, b), torch.matmul(a, b)"
   ]
  },
  {
   "cell_type": "code",
   "execution_count": 64,
   "id": "f72315ec",
   "metadata": {},
   "outputs": [
    {
     "data": {
      "text/plain": [
       "(tensor([45,  2, 12]), tensor([45,  2, 12]))"
      ]
     },
     "execution_count": 64,
     "metadata": {},
     "output_type": "execute_result"
    }
   ],
   "source": [
    "torch.mul(a, b), a * b"
   ]
  },
  {
   "cell_type": "markdown",
   "id": "1e4e4181",
   "metadata": {},
   "source": [
    "### Matrix Operations"
   ]
  },
  {
   "cell_type": "markdown",
   "id": "7c63257e",
   "metadata": {},
   "source": [
    "You can use this link to visualize matrix multipication\n",
    "\n",
    "http://matrixmultiplication.xyz/"
   ]
  },
  {
   "cell_type": "code",
   "execution_count": 65,
   "id": "05ec75fa",
   "metadata": {},
   "outputs": [],
   "source": [
    "a = torch.randint(low=0, high=10, size=(5, 3))\n",
    "b = torch.randint(low=0, high=10, size=(3, 5))"
   ]
  },
  {
   "cell_type": "code",
   "execution_count": 66,
   "id": "86344828",
   "metadata": {},
   "outputs": [
    {
     "data": {
      "text/plain": [
       "torch.Size([5, 5])"
      ]
     },
     "execution_count": 66,
     "metadata": {},
     "output_type": "execute_result"
    }
   ],
   "source": [
    "ab = torch.matmul(a, b)\n",
    "ab.shape"
   ]
  },
  {
   "cell_type": "code",
   "execution_count": 67,
   "id": "d0868e94",
   "metadata": {},
   "outputs": [],
   "source": [
    "batch_size = 32\n",
    "a = torch.randint(low=0, high=10, size=(batch_size, 5, 3))\n",
    "b = torch.randint(low=0, high=10, size=(batch_size, 3, 5))"
   ]
  },
  {
   "cell_type": "code",
   "execution_count": 68,
   "id": "651c99e9",
   "metadata": {},
   "outputs": [
    {
     "data": {
      "text/plain": [
       "torch.Size([32, 5, 5])"
      ]
     },
     "execution_count": 68,
     "metadata": {},
     "output_type": "execute_result"
    }
   ],
   "source": [
    "ab = torch.bmm(a, b)\n",
    "ab.shape"
   ]
  },
  {
   "cell_type": "code",
   "execution_count": 69,
   "id": "8f1ca45f",
   "metadata": {},
   "outputs": [
    {
     "data": {
      "text/plain": [
       "tensor(True)"
      ]
     },
     "execution_count": 69,
     "metadata": {},
     "output_type": "execute_result"
    }
   ],
   "source": [
    "torch.all(torch.bmm(a, b) == torch.matmul(a, b))"
   ]
  },
  {
   "cell_type": "markdown",
   "id": "9d1075bb",
   "metadata": {},
   "source": [
    "### Reshaping"
   ]
  },
  {
   "cell_type": "code",
   "execution_count": 70,
   "id": "b1e2e3d1",
   "metadata": {},
   "outputs": [],
   "source": [
    "batch_size = 128"
   ]
  },
  {
   "cell_type": "code",
   "execution_count": 71,
   "id": "c9f797a7",
   "metadata": {},
   "outputs": [],
   "source": [
    "a = torch.randn((batch_size, 25))"
   ]
  },
  {
   "cell_type": "code",
   "execution_count": 72,
   "id": "33938b71",
   "metadata": {},
   "outputs": [
    {
     "data": {
      "text/plain": [
       "torch.Size([128, 5, 5])"
      ]
     },
     "execution_count": 72,
     "metadata": {},
     "output_type": "execute_result"
    }
   ],
   "source": [
    "a.view((batch_size, 5, 5)).shape"
   ]
  },
  {
   "cell_type": "code",
   "execution_count": 73,
   "id": "081d4380",
   "metadata": {},
   "outputs": [
    {
     "data": {
      "text/plain": [
       "torch.Size([128, 5, 5])"
      ]
     },
     "execution_count": 73,
     "metadata": {},
     "output_type": "execute_result"
    }
   ],
   "source": [
    "a.reshape((batch_size, 5, 5)).shape"
   ]
  },
  {
   "cell_type": "markdown",
   "id": "ac04ee12",
   "metadata": {},
   "source": [
    "Note that the new shape must be valid, as the number of required elements is the same as the number of original elements "
   ]
  },
  {
   "cell_type": "code",
   "execution_count": 74,
   "id": "d6317aea",
   "metadata": {},
   "outputs": [
    {
     "ename": "RuntimeError",
     "evalue": "shape '[128, 8, 4]' is invalid for input of size 3200",
     "output_type": "error",
     "traceback": [
      "\u001b[31m---------------------------------------------------------------------------\u001b[39m",
      "\u001b[31mRuntimeError\u001b[39m                              Traceback (most recent call last)",
      "\u001b[36mCell\u001b[39m\u001b[36m \u001b[39m\u001b[32mIn[74]\u001b[39m\u001b[32m, line 1\u001b[39m\n\u001b[32m----> \u001b[39m\u001b[32m1\u001b[39m \u001b[43ma\u001b[49m\u001b[43m.\u001b[49m\u001b[43mreshape\u001b[49m\u001b[43m(\u001b[49m\u001b[43m(\u001b[49m\u001b[43mbatch_size\u001b[49m\u001b[43m,\u001b[49m\u001b[43m \u001b[49m\u001b[32;43m8\u001b[39;49m\u001b[43m,\u001b[49m\u001b[43m \u001b[49m\u001b[32;43m4\u001b[39;49m\u001b[43m)\u001b[49m\u001b[43m)\u001b[49m\n",
      "\u001b[31mRuntimeError\u001b[39m: shape '[128, 8, 4]' is invalid for input of size 3200"
     ]
    }
   ],
   "source": [
    "a.reshape((batch_size, 8, 4))"
   ]
  },
  {
   "cell_type": "markdown",
   "id": "d41035d2",
   "metadata": {},
   "source": [
    "View and reshape are used to change the shape of a tensor, they **don't create a new tensor**, what they do is that they provide us with a specific view of that tensor\n",
    "\n",
    "The main difference is that:\n",
    "- `view` cannot be used on *non contiguous* tensors\n",
    "- `reshape` is used on both *contiguous* and *non contiguous* tensors, if the tensor is *contiguous* it will internally use view, otherwise it will use reshape\n",
    "\n",
    "\n",
    "*contiguous* means that the we are viewing the tensor in the same order it's ordered in in the memory\n",
    "you can learn more through this [article](https://medium.com/analytics-vidhya/pytorch-contiguous-vs-non-contiguous-tensor-view-understanding-view-reshape-73e10cdfa0dd) "
   ]
  },
  {
   "cell_type": "code",
   "execution_count": null,
   "id": "ec70c74e",
   "metadata": {},
   "outputs": [],
   "source": [
    "a = torch.randn((batch_size, 32, 64))"
   ]
  },
  {
   "cell_type": "code",
   "execution_count": null,
   "id": "07fcef07",
   "metadata": {},
   "outputs": [
    {
     "name": "stdout",
     "output_type": "stream",
     "text": [
      "Permutation: torch.Size([128, 64, 32])\n",
      "Reshaping: torch.Size([128, 64, 32])\n"
     ]
    }
   ],
   "source": [
    "print(f\"Permutation: {a.permute((0, 2, 1)).shape}\\nReshaping: {a.reshape((batch_size, 64, 32)).shape}\")"
   ]
  },
  {
   "cell_type": "markdown",
   "id": "61eb4373",
   "metadata": {},
   "source": [
    "Permutation is an operation to switch the axes of a tensor, without changing each axis length"
   ]
  },
  {
   "cell_type": "markdown",
   "id": "69a7b903",
   "metadata": {},
   "source": [
    "### Changing the Device"
   ]
  },
  {
   "cell_type": "code",
   "execution_count": 75,
   "id": "bea54ba7",
   "metadata": {},
   "outputs": [],
   "source": [
    "device = torch.device(\"mps\" if torch.backends.mps.is_available() else \"cpu\")"
   ]
  },
  {
   "cell_type": "code",
   "execution_count": 76,
   "id": "ff2e7ba0",
   "metadata": {},
   "outputs": [
    {
     "data": {
      "text/plain": [
       "device(type='mps', index=0)"
      ]
     },
     "execution_count": 76,
     "metadata": {},
     "output_type": "execute_result"
    }
   ],
   "source": [
    "a = a.to(device)\n",
    "a.device"
   ]
  },
  {
   "cell_type": "markdown",
   "id": "585ba784",
   "metadata": {},
   "source": [
    "## Common Operations"
   ]
  },
  {
   "cell_type": "code",
   "execution_count": 77,
   "id": "4c8ac992",
   "metadata": {},
   "outputs": [
    {
     "data": {
      "text/plain": [
       "tensor([[ 0.5641,  0.2369, -0.0366, -0.0636,  1.3189],\n",
       "        [-0.1681, -1.7498,  1.0637, -1.3931, -0.8938],\n",
       "        [ 0.4896, -0.1967, -0.9846, -0.1149,  0.4386],\n",
       "        [ 0.5820, -0.4963,  0.4155,  0.7391,  1.2273],\n",
       "        [ 0.5746,  0.2857, -0.7124, -0.4985, -1.3165]])"
      ]
     },
     "execution_count": 77,
     "metadata": {},
     "output_type": "execute_result"
    }
   ],
   "source": [
    "a = torch.randn((5, 5))\n",
    "a"
   ]
  },
  {
   "cell_type": "code",
   "execution_count": 78,
   "id": "9c584453",
   "metadata": {},
   "outputs": [
    {
     "data": {
      "text/plain": [
       "tensor([[0.5641, 0.2369, 0.0366, 0.0636, 1.3189],\n",
       "        [0.1681, 1.7498, 1.0637, 1.3931, 0.8938],\n",
       "        [0.4896, 0.1967, 0.9846, 0.1149, 0.4386],\n",
       "        [0.5820, 0.4963, 0.4155, 0.7391, 1.2273],\n",
       "        [0.5746, 0.2857, 0.7124, 0.4985, 1.3165]])"
      ]
     },
     "execution_count": 78,
     "metadata": {},
     "output_type": "execute_result"
    }
   ],
   "source": [
    "abs_a = a.abs()\n",
    "abs_a"
   ]
  },
  {
   "cell_type": "code",
   "execution_count": 79,
   "id": "9ee67e0d",
   "metadata": {},
   "outputs": [
    {
     "data": {
      "text/plain": [
       "tensor([[ 0.8451,  0.9721,  0.9993,  0.9980,  0.2493],\n",
       "        [ 0.9859, -0.1780,  0.4856,  0.1767,  0.6264],\n",
       "        [ 0.8825,  0.9807,  0.5532,  0.9934,  0.9054],\n",
       "        [ 0.8354,  0.8793,  0.9149,  0.7391,  0.3368],\n",
       "        [ 0.8394,  0.9595,  0.7568,  0.8783,  0.2516]])"
      ]
     },
     "execution_count": 79,
     "metadata": {},
     "output_type": "execute_result"
    }
   ],
   "source": [
    "cos_a = a.cos()\n",
    "cos_a"
   ]
  },
  {
   "cell_type": "markdown",
   "id": "40347381",
   "metadata": {},
   "source": [
    "### min, max, argmin, argmax"
   ]
  },
  {
   "cell_type": "code",
   "execution_count": 81,
   "id": "517e34bb",
   "metadata": {},
   "outputs": [
    {
     "data": {
      "text/plain": [
       "(tensor(-1.7498), tensor(6))"
      ]
     },
     "execution_count": 81,
     "metadata": {},
     "output_type": "execute_result"
    }
   ],
   "source": [
    "a.min(), a.argmin()"
   ]
  },
  {
   "cell_type": "markdown",
   "id": "483745a0",
   "metadata": {},
   "source": [
    "`a.min()`: returns the minimum value found in all of the matrix\n",
    "\n",
    "`a.argmin()`: returns the index of the minimum value, given it's flattened"
   ]
  },
  {
   "cell_type": "code",
   "execution_count": 82,
   "id": "f08f157b",
   "metadata": {},
   "outputs": [
    {
     "name": "stdout",
     "output_type": "stream",
     "text": [
      "torch.return_types.min(\n",
      "values=tensor([-0.1681, -1.7498, -0.9846, -1.3931, -1.3165]),\n",
      "indices=tensor([1, 1, 2, 1, 4]))\n",
      "\n",
      "tensor([1, 1, 2, 1, 4])\n"
     ]
    }
   ],
   "source": [
    "print(a.min(dim=0), a.argmin(dim=0), sep='\\n\\n')"
   ]
  },
  {
   "cell_type": "markdown",
   "id": "d275be3b",
   "metadata": {},
   "source": [
    "`a.min(dim=0)`: returns two items:\n",
    "- The first is the minimum value found for each vector at the specified dimension, since we specified the `dim=0` (which means rows), we will get the minimum value found at every row, so five rows yeilds five minimum values, \n",
    "- The second item is the indices of these values at every given row  \n",
    "\n",
    "`a.argmin(dim=0)`: returns the indices of the minimum values found at each vector in the specified dimension, similar to the second item returned from the `a.min(dim=0)`"
   ]
  },
  {
   "cell_type": "markdown",
   "id": "c3e7f3a4",
   "metadata": {},
   "source": [
    "#### Note\n",
    "`argmin` and `argmax` are specifically helpful in functions like cross entropy, or finding the maximum probability from the output of a neural network"
   ]
  },
  {
   "cell_type": "markdown",
   "id": "be4580ad",
   "metadata": {},
   "source": [
    "You can view a detailed [list of operations](https://pytorch.org/docs/stable/tensors.html#torch.Tensor.mH)"
   ]
  },
  {
   "cell_type": "markdown",
   "id": "d62feab7",
   "metadata": {},
   "source": [
    "### Inline Operations"
   ]
  },
  {
   "cell_type": "markdown",
   "id": "92b60c53",
   "metadata": {},
   "source": [
    "Adding an underscore (_) after an operation, makes the operation in place, meaning it will change the tensor and not returning a new copy as before"
   ]
  },
  {
   "cell_type": "code",
   "execution_count": 83,
   "id": "1e9de389",
   "metadata": {},
   "outputs": [
    {
     "data": {
      "text/plain": [
       "tensor(False)"
      ]
     },
     "execution_count": 83,
     "metadata": {},
     "output_type": "execute_result"
    }
   ],
   "source": [
    "abs_a = a.abs()\n",
    "(a == abs_a).all()"
   ]
  },
  {
   "cell_type": "code",
   "execution_count": null,
   "id": "174e7269",
   "metadata": {},
   "outputs": [
    {
     "data": {
      "text/plain": [
       "tensor(True)"
      ]
     },
     "execution_count": 46,
     "metadata": {},
     "output_type": "execute_result"
    }
   ],
   "source": [
    "a.abs_()\n",
    "(a == abs_a).all()"
   ]
  }
 ],
 "metadata": {
  "kernelspec": {
   "display_name": "pytorch",
   "language": "python",
   "name": "python3"
  },
  "language_info": {
   "codemirror_mode": {
    "name": "ipython",
    "version": 3
   },
   "file_extension": ".py",
   "mimetype": "text/x-python",
   "name": "python",
   "nbconvert_exporter": "python",
   "pygments_lexer": "ipython3",
   "version": "3.12.10"
  },
  "toc": {
   "base_numbering": 1,
   "nav_menu": {},
   "number_sections": true,
   "sideBar": true,
   "skip_h1_title": false,
   "title_cell": "Table of Contents",
   "title_sidebar": "Contents",
   "toc_cell": false,
   "toc_position": {},
   "toc_section_display": true,
   "toc_window_display": true
  }
 },
 "nbformat": 4,
 "nbformat_minor": 5
}
