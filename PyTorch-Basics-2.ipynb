{
 "cells": [
  {
   "cell_type": "code",
   "execution_count": 20,
   "id": "a11b5b94",
   "metadata": {},
   "outputs": [],
   "source": [
    "import os\n",
    "import torch\n",
    "import numpy as np\n",
    "import pandas as pd\n",
    "import seaborn as sns\n",
    "from torch import nn\n",
    "from sklearn.preprocessing import StandardScaler\n",
    "from sklearn.model_selection import train_test_split\n",
    "from sklearn.linear_model import LinearRegression\n",
    "from matplotlib import pyplot as plt\n",
    "\n",
    "%matplotlib inline"
   ]
  },
  {
   "cell_type": "code",
   "execution_count": 21,
   "id": "92c7fe43",
   "metadata": {},
   "outputs": [],
   "source": [
    "def visualize_predictions(X_test, y_test, predictions):\n",
    "    \n",
    "    preds = weight_scaler.inverse_transform(predictions.detach().numpy())\n",
    "    actual = weight_scaler.inverse_transform(y_test.numpy().reshape((-1, 1)))\n",
    "    inputs = weight_scaler.inverse_transform(X_test.numpy().reshape((-1, 1)))\n",
    "\n",
    "    fig, ax = plt.subplots(figsize=(15, 12))\n",
    "\n",
    "    sns.scatterplot(x=inputs.flatten(), y=preds.flatten(), ax=ax, color=\"blue\")\n",
    "    sns.scatterplot(x=inputs.flatten(), y=actual.flatten(), ax=ax, color=\"orange\")\n",
    "\n",
    "    plt.legend()\n",
    "\n",
    "    ax.set_xlabel(\"player\", fontdict={\"size\": 12}, labelpad=12)\n",
    "    ax.set_ylabel(\"player_weight\", fontdict={\"size\": 12}, labelpad=12)\n",
    "\n",
    "    fig.show()"
   ]
  },
  {
   "cell_type": "markdown",
   "id": "c68a6330",
   "metadata": {},
   "source": [
    "## Graphs in PyTorch"
   ]
  },
  {
   "cell_type": "markdown",
   "id": "bd0d8378",
   "metadata": {},
   "source": [
    "PyTorch internally tracks the operations done on all matrices within a series of operations and creates a [*graph*](https://pytorch.org/tutorials/beginner/blitz/autograd_tutorial.html#computational-graph), this graph stores the required information while *propagating forward*, and calculates the gradients for each matrix *via chain rule* in *backpropagation*"
   ]
  },
  {
   "cell_type": "markdown",
   "id": "520b462c",
   "metadata": {},
   "source": [
    "## Example"
   ]
  },
  {
   "cell_type": "markdown",
   "id": "50a37f65",
   "metadata": {},
   "source": [
    "### The Dataset\n",
    "\n",
    "We're going to use a simple dataset for the purpose of demonstration.\n",
    "\n",
    "The dataset from [Github gists](https://gist.github.com/nstokoe/7d4717e96c21b8ad04ec91f361b000cb) has three columns:\n",
    "1. Gender (Male/Female)\n",
    "2. Height (inches)\n",
    "3. Weight (pounds)\n",
    "\n",
    "In this exercise we want to predict the person's weight, given his height and gender"
   ]
  },
  {
   "cell_type": "code",
   "execution_count": 22,
   "id": "8614acf6",
   "metadata": {},
   "outputs": [],
   "source": [
    "raw = pd.read_csv(\n",
    "    filepath_or_buffer=\"https://gist.githubusercontent.com/nstokoe/802f1ddb646cba965a732ac5e0f97dca/raw/45313cfd519c4c30b1f3603704027e54366088b4/nba-height-weight.csv\"\n",
    ")"
   ]
  },
  {
   "cell_type": "code",
   "execution_count": 23,
   "id": "3fb6c567",
   "metadata": {},
   "outputs": [
    {
     "data": {
      "text/html": [
       "<div>\n",
       "<style scoped>\n",
       "    .dataframe tbody tr th:only-of-type {\n",
       "        vertical-align: middle;\n",
       "    }\n",
       "\n",
       "    .dataframe tbody tr th {\n",
       "        vertical-align: top;\n",
       "    }\n",
       "\n",
       "    .dataframe thead th {\n",
       "        text-align: right;\n",
       "    }\n",
       "</style>\n",
       "<table border=\"1\" class=\"dataframe\">\n",
       "  <thead>\n",
       "    <tr style=\"text-align: right;\">\n",
       "      <th></th>\n",
       "      <th>Unnamed: 0</th>\n",
       "      <th>player_name</th>\n",
       "      <th>team_abbreviation</th>\n",
       "      <th>age</th>\n",
       "      <th>player_height</th>\n",
       "      <th>player_weight</th>\n",
       "      <th>college</th>\n",
       "      <th>country</th>\n",
       "      <th>draft_year</th>\n",
       "      <th>draft_round</th>\n",
       "      <th>...</th>\n",
       "      <th>pts</th>\n",
       "      <th>reb</th>\n",
       "      <th>ast</th>\n",
       "      <th>net_rating</th>\n",
       "      <th>oreb_pct</th>\n",
       "      <th>dreb_pct</th>\n",
       "      <th>usg_pct</th>\n",
       "      <th>ts_pct</th>\n",
       "      <th>ast_pct</th>\n",
       "      <th>season</th>\n",
       "    </tr>\n",
       "  </thead>\n",
       "  <tbody>\n",
       "    <tr>\n",
       "      <th>0</th>\n",
       "      <td>0</td>\n",
       "      <td>Chris Robinson</td>\n",
       "      <td>VAN</td>\n",
       "      <td>23.0</td>\n",
       "      <td>195.58</td>\n",
       "      <td>90.71840</td>\n",
       "      <td>Western Kentucky</td>\n",
       "      <td>USA</td>\n",
       "      <td>1996</td>\n",
       "      <td>2</td>\n",
       "      <td>...</td>\n",
       "      <td>4.6</td>\n",
       "      <td>1.7</td>\n",
       "      <td>1.6</td>\n",
       "      <td>-11.4</td>\n",
       "      <td>0.039</td>\n",
       "      <td>0.088</td>\n",
       "      <td>0.155</td>\n",
       "      <td>0.486</td>\n",
       "      <td>0.156</td>\n",
       "      <td>1996-97</td>\n",
       "    </tr>\n",
       "    <tr>\n",
       "      <th>1</th>\n",
       "      <td>1</td>\n",
       "      <td>Matt Fish</td>\n",
       "      <td>MIA</td>\n",
       "      <td>27.0</td>\n",
       "      <td>210.82</td>\n",
       "      <td>106.59412</td>\n",
       "      <td>North Carolina-Wilmington</td>\n",
       "      <td>USA</td>\n",
       "      <td>1992</td>\n",
       "      <td>2</td>\n",
       "      <td>...</td>\n",
       "      <td>0.3</td>\n",
       "      <td>0.8</td>\n",
       "      <td>0.0</td>\n",
       "      <td>-15.1</td>\n",
       "      <td>0.143</td>\n",
       "      <td>0.267</td>\n",
       "      <td>0.265</td>\n",
       "      <td>0.333</td>\n",
       "      <td>0.000</td>\n",
       "      <td>1996-97</td>\n",
       "    </tr>\n",
       "    <tr>\n",
       "      <th>2</th>\n",
       "      <td>2</td>\n",
       "      <td>Matt Bullard</td>\n",
       "      <td>HOU</td>\n",
       "      <td>30.0</td>\n",
       "      <td>208.28</td>\n",
       "      <td>106.59412</td>\n",
       "      <td>Iowa</td>\n",
       "      <td>USA</td>\n",
       "      <td>Undrafted</td>\n",
       "      <td>Undrafted</td>\n",
       "      <td>...</td>\n",
       "      <td>4.5</td>\n",
       "      <td>1.6</td>\n",
       "      <td>0.9</td>\n",
       "      <td>0.9</td>\n",
       "      <td>0.016</td>\n",
       "      <td>0.115</td>\n",
       "      <td>0.151</td>\n",
       "      <td>0.535</td>\n",
       "      <td>0.099</td>\n",
       "      <td>1996-97</td>\n",
       "    </tr>\n",
       "    <tr>\n",
       "      <th>3</th>\n",
       "      <td>3</td>\n",
       "      <td>Marty Conlon</td>\n",
       "      <td>BOS</td>\n",
       "      <td>29.0</td>\n",
       "      <td>210.82</td>\n",
       "      <td>111.13004</td>\n",
       "      <td>Providence</td>\n",
       "      <td>USA</td>\n",
       "      <td>Undrafted</td>\n",
       "      <td>Undrafted</td>\n",
       "      <td>...</td>\n",
       "      <td>7.8</td>\n",
       "      <td>4.4</td>\n",
       "      <td>1.4</td>\n",
       "      <td>-9.0</td>\n",
       "      <td>0.083</td>\n",
       "      <td>0.152</td>\n",
       "      <td>0.167</td>\n",
       "      <td>0.542</td>\n",
       "      <td>0.101</td>\n",
       "      <td>1996-97</td>\n",
       "    </tr>\n",
       "    <tr>\n",
       "      <th>4</th>\n",
       "      <td>4</td>\n",
       "      <td>Martin Muursepp</td>\n",
       "      <td>DAL</td>\n",
       "      <td>22.0</td>\n",
       "      <td>205.74</td>\n",
       "      <td>106.59412</td>\n",
       "      <td>NaN</td>\n",
       "      <td>USA</td>\n",
       "      <td>1996</td>\n",
       "      <td>1</td>\n",
       "      <td>...</td>\n",
       "      <td>3.7</td>\n",
       "      <td>1.6</td>\n",
       "      <td>0.5</td>\n",
       "      <td>-14.5</td>\n",
       "      <td>0.109</td>\n",
       "      <td>0.118</td>\n",
       "      <td>0.233</td>\n",
       "      <td>0.482</td>\n",
       "      <td>0.114</td>\n",
       "      <td>1996-97</td>\n",
       "    </tr>\n",
       "  </tbody>\n",
       "</table>\n",
       "<p>5 rows × 22 columns</p>\n",
       "</div>"
      ],
      "text/plain": [
       "   Unnamed: 0      player_name team_abbreviation   age  player_height  \\\n",
       "0           0   Chris Robinson               VAN  23.0         195.58   \n",
       "1           1        Matt Fish               MIA  27.0         210.82   \n",
       "2           2     Matt Bullard               HOU  30.0         208.28   \n",
       "3           3     Marty Conlon               BOS  29.0         210.82   \n",
       "4           4  Martin Muursepp               DAL  22.0         205.74   \n",
       "\n",
       "   player_weight                    college country draft_year draft_round  \\\n",
       "0       90.71840           Western Kentucky     USA       1996           2   \n",
       "1      106.59412  North Carolina-Wilmington     USA       1992           2   \n",
       "2      106.59412                       Iowa     USA  Undrafted   Undrafted   \n",
       "3      111.13004                 Providence     USA  Undrafted   Undrafted   \n",
       "4      106.59412                        NaN     USA       1996           1   \n",
       "\n",
       "   ...  pts  reb  ast  net_rating  oreb_pct  dreb_pct  usg_pct  ts_pct  \\\n",
       "0  ...  4.6  1.7  1.6       -11.4     0.039     0.088    0.155   0.486   \n",
       "1  ...  0.3  0.8  0.0       -15.1     0.143     0.267    0.265   0.333   \n",
       "2  ...  4.5  1.6  0.9         0.9     0.016     0.115    0.151   0.535   \n",
       "3  ...  7.8  4.4  1.4        -9.0     0.083     0.152    0.167   0.542   \n",
       "4  ...  3.7  1.6  0.5       -14.5     0.109     0.118    0.233   0.482   \n",
       "\n",
       "   ast_pct   season  \n",
       "0    0.156  1996-97  \n",
       "1    0.000  1996-97  \n",
       "2    0.099  1996-97  \n",
       "3    0.101  1996-97  \n",
       "4    0.114  1996-97  \n",
       "\n",
       "[5 rows x 22 columns]"
      ]
     },
     "execution_count": 23,
     "metadata": {},
     "output_type": "execute_result"
    }
   ],
   "source": [
    "raw.head()"
   ]
  },
  {
   "cell_type": "code",
   "execution_count": 24,
   "id": "7a3710b1",
   "metadata": {},
   "outputs": [
    {
     "data": {
      "text/html": [
       "<div>\n",
       "<style scoped>\n",
       "    .dataframe tbody tr th:only-of-type {\n",
       "        vertical-align: middle;\n",
       "    }\n",
       "\n",
       "    .dataframe tbody tr th {\n",
       "        vertical-align: top;\n",
       "    }\n",
       "\n",
       "    .dataframe thead th {\n",
       "        text-align: right;\n",
       "    }\n",
       "</style>\n",
       "<table border=\"1\" class=\"dataframe\">\n",
       "  <thead>\n",
       "    <tr style=\"text-align: right;\">\n",
       "      <th></th>\n",
       "      <th>Unnamed: 0</th>\n",
       "      <th>age</th>\n",
       "      <th>player_height</th>\n",
       "      <th>player_weight</th>\n",
       "      <th>gp</th>\n",
       "      <th>pts</th>\n",
       "      <th>reb</th>\n",
       "      <th>ast</th>\n",
       "      <th>net_rating</th>\n",
       "      <th>oreb_pct</th>\n",
       "      <th>dreb_pct</th>\n",
       "      <th>usg_pct</th>\n",
       "      <th>ts_pct</th>\n",
       "      <th>ast_pct</th>\n",
       "    </tr>\n",
       "  </thead>\n",
       "  <tbody>\n",
       "    <tr>\n",
       "      <th>count</th>\n",
       "      <td>9561.000000</td>\n",
       "      <td>9561.000000</td>\n",
       "      <td>9561.000000</td>\n",
       "      <td>9561.000000</td>\n",
       "      <td>9561.000000</td>\n",
       "      <td>9561.000000</td>\n",
       "      <td>9561.000000</td>\n",
       "      <td>9561.000000</td>\n",
       "      <td>9561.000000</td>\n",
       "      <td>9561.000000</td>\n",
       "      <td>9561.000000</td>\n",
       "      <td>9561.000000</td>\n",
       "      <td>9561.000000</td>\n",
       "      <td>9561.000000</td>\n",
       "    </tr>\n",
       "    <tr>\n",
       "      <th>mean</th>\n",
       "      <td>4780.000000</td>\n",
       "      <td>27.336157</td>\n",
       "      <td>200.953442</td>\n",
       "      <td>100.975853</td>\n",
       "      <td>53.073528</td>\n",
       "      <td>8.070683</td>\n",
       "      <td>3.565161</td>\n",
       "      <td>1.788516</td>\n",
       "      <td>-2.214413</td>\n",
       "      <td>0.057963</td>\n",
       "      <td>0.142879</td>\n",
       "      <td>0.186582</td>\n",
       "      <td>0.504795</td>\n",
       "      <td>0.130812</td>\n",
       "    </tr>\n",
       "    <tr>\n",
       "      <th>std</th>\n",
       "      <td>2760.167296</td>\n",
       "      <td>4.350559</td>\n",
       "      <td>9.281158</td>\n",
       "      <td>12.780883</td>\n",
       "      <td>24.882139</td>\n",
       "      <td>5.888910</td>\n",
       "      <td>2.494161</td>\n",
       "      <td>1.793835</td>\n",
       "      <td>11.545131</td>\n",
       "      <td>0.044568</td>\n",
       "      <td>0.062211</td>\n",
       "      <td>0.052344</td>\n",
       "      <td>0.093493</td>\n",
       "      <td>0.095428</td>\n",
       "    </tr>\n",
       "    <tr>\n",
       "      <th>min</th>\n",
       "      <td>0.000000</td>\n",
       "      <td>18.000000</td>\n",
       "      <td>160.020000</td>\n",
       "      <td>60.327736</td>\n",
       "      <td>1.000000</td>\n",
       "      <td>0.000000</td>\n",
       "      <td>0.000000</td>\n",
       "      <td>0.000000</td>\n",
       "      <td>-200.000000</td>\n",
       "      <td>0.000000</td>\n",
       "      <td>0.000000</td>\n",
       "      <td>0.000000</td>\n",
       "      <td>0.000000</td>\n",
       "      <td>0.000000</td>\n",
       "    </tr>\n",
       "    <tr>\n",
       "      <th>25%</th>\n",
       "      <td>2390.000000</td>\n",
       "      <td>24.000000</td>\n",
       "      <td>195.580000</td>\n",
       "      <td>91.171992</td>\n",
       "      <td>34.000000</td>\n",
       "      <td>3.500000</td>\n",
       "      <td>1.800000</td>\n",
       "      <td>0.500000</td>\n",
       "      <td>-6.400000</td>\n",
       "      <td>0.023000</td>\n",
       "      <td>0.097000</td>\n",
       "      <td>0.152000</td>\n",
       "      <td>0.476000</td>\n",
       "      <td>0.063000</td>\n",
       "    </tr>\n",
       "    <tr>\n",
       "      <th>50%</th>\n",
       "      <td>4780.000000</td>\n",
       "      <td>27.000000</td>\n",
       "      <td>203.200000</td>\n",
       "      <td>100.697424</td>\n",
       "      <td>60.000000</td>\n",
       "      <td>6.600000</td>\n",
       "      <td>3.000000</td>\n",
       "      <td>1.200000</td>\n",
       "      <td>-1.400000</td>\n",
       "      <td>0.046000</td>\n",
       "      <td>0.134000</td>\n",
       "      <td>0.184000</td>\n",
       "      <td>0.518000</td>\n",
       "      <td>0.102000</td>\n",
       "    </tr>\n",
       "    <tr>\n",
       "      <th>75%</th>\n",
       "      <td>7170.000000</td>\n",
       "      <td>30.000000</td>\n",
       "      <td>208.280000</td>\n",
       "      <td>111.130040</td>\n",
       "      <td>75.000000</td>\n",
       "      <td>11.400000</td>\n",
       "      <td>4.700000</td>\n",
       "      <td>2.400000</td>\n",
       "      <td>3.100000</td>\n",
       "      <td>0.088000</td>\n",
       "      <td>0.184000</td>\n",
       "      <td>0.218000</td>\n",
       "      <td>0.552000</td>\n",
       "      <td>0.178000</td>\n",
       "    </tr>\n",
       "    <tr>\n",
       "      <th>max</th>\n",
       "      <td>9560.000000</td>\n",
       "      <td>44.000000</td>\n",
       "      <td>231.140000</td>\n",
       "      <td>163.293120</td>\n",
       "      <td>85.000000</td>\n",
       "      <td>35.400000</td>\n",
       "      <td>16.300000</td>\n",
       "      <td>11.700000</td>\n",
       "      <td>300.000000</td>\n",
       "      <td>1.000000</td>\n",
       "      <td>1.000000</td>\n",
       "      <td>1.000000</td>\n",
       "      <td>1.064000</td>\n",
       "      <td>1.000000</td>\n",
       "    </tr>\n",
       "  </tbody>\n",
       "</table>\n",
       "</div>"
      ],
      "text/plain": [
       "        Unnamed: 0          age  player_height  player_weight           gp  \\\n",
       "count  9561.000000  9561.000000    9561.000000    9561.000000  9561.000000   \n",
       "mean   4780.000000    27.336157     200.953442     100.975853    53.073528   \n",
       "std    2760.167296     4.350559       9.281158      12.780883    24.882139   \n",
       "min       0.000000    18.000000     160.020000      60.327736     1.000000   \n",
       "25%    2390.000000    24.000000     195.580000      91.171992    34.000000   \n",
       "50%    4780.000000    27.000000     203.200000     100.697424    60.000000   \n",
       "75%    7170.000000    30.000000     208.280000     111.130040    75.000000   \n",
       "max    9560.000000    44.000000     231.140000     163.293120    85.000000   \n",
       "\n",
       "               pts          reb          ast   net_rating     oreb_pct  \\\n",
       "count  9561.000000  9561.000000  9561.000000  9561.000000  9561.000000   \n",
       "mean      8.070683     3.565161     1.788516    -2.214413     0.057963   \n",
       "std       5.888910     2.494161     1.793835    11.545131     0.044568   \n",
       "min       0.000000     0.000000     0.000000  -200.000000     0.000000   \n",
       "25%       3.500000     1.800000     0.500000    -6.400000     0.023000   \n",
       "50%       6.600000     3.000000     1.200000    -1.400000     0.046000   \n",
       "75%      11.400000     4.700000     2.400000     3.100000     0.088000   \n",
       "max      35.400000    16.300000    11.700000   300.000000     1.000000   \n",
       "\n",
       "          dreb_pct      usg_pct       ts_pct      ast_pct  \n",
       "count  9561.000000  9561.000000  9561.000000  9561.000000  \n",
       "mean      0.142879     0.186582     0.504795     0.130812  \n",
       "std       0.062211     0.052344     0.093493     0.095428  \n",
       "min       0.000000     0.000000     0.000000     0.000000  \n",
       "25%       0.097000     0.152000     0.476000     0.063000  \n",
       "50%       0.134000     0.184000     0.518000     0.102000  \n",
       "75%       0.184000     0.218000     0.552000     0.178000  \n",
       "max       1.000000     1.000000     1.064000     1.000000  "
      ]
     },
     "execution_count": 24,
     "metadata": {},
     "output_type": "execute_result"
    }
   ],
   "source": [
    "raw.describe()"
   ]
  },
  {
   "cell_type": "code",
   "execution_count": 25,
   "id": "9dce32ba",
   "metadata": {},
   "outputs": [
    {
     "data": {
      "image/png": "[encoded data removed]",
      "text/plain": [
       "<Figure size 1500x1200 with 1 Axes>"
      ]
     },
     "metadata": {},
     "output_type": "display_data"
    }
   ],
   "source": [
    "fig, ax = plt.subplots(figsize=(15, 12))\n",
    "\n",
    "sns.scatterplot(data=raw, x=\"player_height\", y=\"player_weight\")\n",
    "ax.set_title(label=\"player_weight vs player_height\", fontdict=dict(size=15), pad=15)\n",
    "\n",
    "plt.show()"
   ]
  },
  {
   "cell_type": "markdown",
   "id": "8ed9913f",
   "metadata": {},
   "source": [
    "#### Preprocessing"
   ]
  },
  {
   "cell_type": "code",
   "execution_count": 26,
   "id": "fe4af65c",
   "metadata": {},
   "outputs": [],
   "source": [
    "data = raw.copy(deep=True)"
   ]
  },
  {
   "cell_type": "code",
   "execution_count": 27,
   "id": "e39f01de",
   "metadata": {},
   "outputs": [],
   "source": [
    "height_scaler = StandardScaler()\n",
    "weight_scaler = StandardScaler()\n",
    "\n",
    "data[\"player_height\"] = height_scaler.fit_transform(data[\"player_height\"].to_numpy().reshape(-1, 1)).flatten()\n",
    "data[\"player_weight\"] = weight_scaler.fit_transform(data[\"player_weight\"].to_numpy().reshape(-1, 1)).flatten()"
   ]
  },
  {
   "cell_type": "code",
   "execution_count": 28,
   "id": "ee15f16b",
   "metadata": {},
   "outputs": [
    {
     "data": {
      "text/html": [
       "<div>\n",
       "<style scoped>\n",
       "    .dataframe tbody tr th:only-of-type {\n",
       "        vertical-align: middle;\n",
       "    }\n",
       "\n",
       "    .dataframe tbody tr th {\n",
       "        vertical-align: top;\n",
       "    }\n",
       "\n",
       "    .dataframe thead th {\n",
       "        text-align: right;\n",
       "    }\n",
       "</style>\n",
       "<table border=\"1\" class=\"dataframe\">\n",
       "  <thead>\n",
       "    <tr style=\"text-align: right;\">\n",
       "      <th></th>\n",
       "      <th>Unnamed: 0</th>\n",
       "      <th>player_name</th>\n",
       "      <th>team_abbreviation</th>\n",
       "      <th>age</th>\n",
       "      <th>player_height</th>\n",
       "      <th>player_weight</th>\n",
       "      <th>college</th>\n",
       "      <th>country</th>\n",
       "      <th>draft_year</th>\n",
       "      <th>draft_round</th>\n",
       "      <th>...</th>\n",
       "      <th>pts</th>\n",
       "      <th>reb</th>\n",
       "      <th>ast</th>\n",
       "      <th>net_rating</th>\n",
       "      <th>oreb_pct</th>\n",
       "      <th>dreb_pct</th>\n",
       "      <th>usg_pct</th>\n",
       "      <th>ts_pct</th>\n",
       "      <th>ast_pct</th>\n",
       "      <th>season</th>\n",
       "    </tr>\n",
       "  </thead>\n",
       "  <tbody>\n",
       "    <tr>\n",
       "      <th>0</th>\n",
       "      <td>0</td>\n",
       "      <td>Chris Robinson</td>\n",
       "      <td>VAN</td>\n",
       "      <td>23.0</td>\n",
       "      <td>-0.578993</td>\n",
       "      <td>-0.802604</td>\n",
       "      <td>Western Kentucky</td>\n",
       "      <td>USA</td>\n",
       "      <td>1996</td>\n",
       "      <td>2</td>\n",
       "      <td>...</td>\n",
       "      <td>4.6</td>\n",
       "      <td>1.7</td>\n",
       "      <td>1.6</td>\n",
       "      <td>-11.4</td>\n",
       "      <td>0.039</td>\n",
       "      <td>0.088</td>\n",
       "      <td>0.155</td>\n",
       "      <td>0.486</td>\n",
       "      <td>0.156</td>\n",
       "      <td>1996-97</td>\n",
       "    </tr>\n",
       "    <tr>\n",
       "      <th>1</th>\n",
       "      <td>1</td>\n",
       "      <td>Matt Fish</td>\n",
       "      <td>MIA</td>\n",
       "      <td>27.0</td>\n",
       "      <td>1.063130</td>\n",
       "      <td>0.439607</td>\n",
       "      <td>North Carolina-Wilmington</td>\n",
       "      <td>USA</td>\n",
       "      <td>1992</td>\n",
       "      <td>2</td>\n",
       "      <td>...</td>\n",
       "      <td>0.3</td>\n",
       "      <td>0.8</td>\n",
       "      <td>0.0</td>\n",
       "      <td>-15.1</td>\n",
       "      <td>0.143</td>\n",
       "      <td>0.267</td>\n",
       "      <td>0.265</td>\n",
       "      <td>0.333</td>\n",
       "      <td>0.000</td>\n",
       "      <td>1996-97</td>\n",
       "    </tr>\n",
       "    <tr>\n",
       "      <th>2</th>\n",
       "      <td>2</td>\n",
       "      <td>Matt Bullard</td>\n",
       "      <td>HOU</td>\n",
       "      <td>30.0</td>\n",
       "      <td>0.789443</td>\n",
       "      <td>0.439607</td>\n",
       "      <td>Iowa</td>\n",
       "      <td>USA</td>\n",
       "      <td>Undrafted</td>\n",
       "      <td>Undrafted</td>\n",
       "      <td>...</td>\n",
       "      <td>4.5</td>\n",
       "      <td>1.6</td>\n",
       "      <td>0.9</td>\n",
       "      <td>0.9</td>\n",
       "      <td>0.016</td>\n",
       "      <td>0.115</td>\n",
       "      <td>0.151</td>\n",
       "      <td>0.535</td>\n",
       "      <td>0.099</td>\n",
       "      <td>1996-97</td>\n",
       "    </tr>\n",
       "    <tr>\n",
       "      <th>3</th>\n",
       "      <td>3</td>\n",
       "      <td>Marty Conlon</td>\n",
       "      <td>BOS</td>\n",
       "      <td>29.0</td>\n",
       "      <td>1.063130</td>\n",
       "      <td>0.794524</td>\n",
       "      <td>Providence</td>\n",
       "      <td>USA</td>\n",
       "      <td>Undrafted</td>\n",
       "      <td>Undrafted</td>\n",
       "      <td>...</td>\n",
       "      <td>7.8</td>\n",
       "      <td>4.4</td>\n",
       "      <td>1.4</td>\n",
       "      <td>-9.0</td>\n",
       "      <td>0.083</td>\n",
       "      <td>0.152</td>\n",
       "      <td>0.167</td>\n",
       "      <td>0.542</td>\n",
       "      <td>0.101</td>\n",
       "      <td>1996-97</td>\n",
       "    </tr>\n",
       "    <tr>\n",
       "      <th>4</th>\n",
       "      <td>4</td>\n",
       "      <td>Martin Muursepp</td>\n",
       "      <td>DAL</td>\n",
       "      <td>22.0</td>\n",
       "      <td>0.515755</td>\n",
       "      <td>0.439607</td>\n",
       "      <td>NaN</td>\n",
       "      <td>USA</td>\n",
       "      <td>1996</td>\n",
       "      <td>1</td>\n",
       "      <td>...</td>\n",
       "      <td>3.7</td>\n",
       "      <td>1.6</td>\n",
       "      <td>0.5</td>\n",
       "      <td>-14.5</td>\n",
       "      <td>0.109</td>\n",
       "      <td>0.118</td>\n",
       "      <td>0.233</td>\n",
       "      <td>0.482</td>\n",
       "      <td>0.114</td>\n",
       "      <td>1996-97</td>\n",
       "    </tr>\n",
       "  </tbody>\n",
       "</table>\n",
       "<p>5 rows × 22 columns</p>\n",
       "</div>"
      ],
      "text/plain": [
       "   Unnamed: 0      player_name team_abbreviation   age  player_height  \\\n",
       "0           0   Chris Robinson               VAN  23.0      -0.578993   \n",
       "1           1        Matt Fish               MIA  27.0       1.063130   \n",
       "2           2     Matt Bullard               HOU  30.0       0.789443   \n",
       "3           3     Marty Conlon               BOS  29.0       1.063130   \n",
       "4           4  Martin Muursepp               DAL  22.0       0.515755   \n",
       "\n",
       "   player_weight                    college country draft_year draft_round  \\\n",
       "0      -0.802604           Western Kentucky     USA       1996           2   \n",
       "1       0.439607  North Carolina-Wilmington     USA       1992           2   \n",
       "2       0.439607                       Iowa     USA  Undrafted   Undrafted   \n",
       "3       0.794524                 Providence     USA  Undrafted   Undrafted   \n",
       "4       0.439607                        NaN     USA       1996           1   \n",
       "\n",
       "   ...  pts  reb  ast  net_rating  oreb_pct  dreb_pct  usg_pct  ts_pct  \\\n",
       "0  ...  4.6  1.7  1.6       -11.4     0.039     0.088    0.155   0.486   \n",
       "1  ...  0.3  0.8  0.0       -15.1     0.143     0.267    0.265   0.333   \n",
       "2  ...  4.5  1.6  0.9         0.9     0.016     0.115    0.151   0.535   \n",
       "3  ...  7.8  4.4  1.4        -9.0     0.083     0.152    0.167   0.542   \n",
       "4  ...  3.7  1.6  0.5       -14.5     0.109     0.118    0.233   0.482   \n",
       "\n",
       "   ast_pct   season  \n",
       "0    0.156  1996-97  \n",
       "1    0.000  1996-97  \n",
       "2    0.099  1996-97  \n",
       "3    0.101  1996-97  \n",
       "4    0.114  1996-97  \n",
       "\n",
       "[5 rows x 22 columns]"
      ]
     },
     "execution_count": 28,
     "metadata": {},
     "output_type": "execute_result"
    }
   ],
   "source": [
    "data.head()"
   ]
  },
  {
   "cell_type": "markdown",
   "id": "3df5fe19",
   "metadata": {},
   "source": [
    "#### Vectorisation &  Train Test Split"
   ]
  },
  {
   "cell_type": "code",
   "execution_count": 29,
   "id": "9fac8423",
   "metadata": {},
   "outputs": [],
   "source": [
    "X = data[\"player_height\"]\n",
    "y = data[\"player_weight\"]"
   ]
  },
  {
   "cell_type": "code",
   "execution_count": 30,
   "id": "bc9b9211",
   "metadata": {},
   "outputs": [
    {
     "data": {
      "text/plain": [
       "0   -0.578993\n",
       "1    1.063130\n",
       "2    0.789443\n",
       "3    1.063130\n",
       "4    0.515755\n",
       "Name: player_height, dtype: float64"
      ]
     },
     "execution_count": 30,
     "metadata": {},
     "output_type": "execute_result"
    }
   ],
   "source": [
    "X.head()"
   ]
  },
  {
   "cell_type": "code",
   "execution_count": 31,
   "id": "bdb3a04d",
   "metadata": {},
   "outputs": [
    {
     "data": {
      "text/plain": [
       "0   -0.802604\n",
       "1    0.439607\n",
       "2    0.439607\n",
       "3    0.794524\n",
       "4    0.439607\n",
       "Name: player_weight, dtype: float64"
      ]
     },
     "execution_count": 31,
     "metadata": {},
     "output_type": "execute_result"
    }
   ],
   "source": [
    "y.head()"
   ]
  },
  {
   "cell_type": "code",
   "execution_count": 32,
   "id": "2359762b",
   "metadata": {},
   "outputs": [],
   "source": [
    "X = X.to_numpy()\n",
    "y = y.to_numpy()"
   ]
  },
  {
   "cell_type": "code",
   "execution_count": 33,
   "id": "a22273c5",
   "metadata": {},
   "outputs": [],
   "source": [
    "X_train, X_test, y_train, y_test = train_test_split(X, y, test_size=0.2)"
   ]
  },
  {
   "cell_type": "code",
   "execution_count": 34,
   "id": "08705bfc",
   "metadata": {},
   "outputs": [
    {
     "data": {
      "text/plain": [
       "((7648,), (7648,), (1913,), (1913,))"
      ]
     },
     "execution_count": 34,
     "metadata": {},
     "output_type": "execute_result"
    }
   ],
   "source": [
    "X_train.shape, y_train.shape, X_test.shape, y_test.shape"
   ]
  },
  {
   "cell_type": "code",
   "execution_count": 35,
   "id": "d966f2e7",
   "metadata": {},
   "outputs": [],
   "source": [
    "X_train, y_train = torch.tensor(X_train, dtype=torch.float32), torch.tensor(y_train, dtype=torch.float32)\n",
    "X_test, y_test = torch.tensor(X_test, dtype=torch.float32), torch.tensor(y_test, dtype=torch.float32)"
   ]
  },
  {
   "cell_type": "code",
   "execution_count": 36,
   "id": "5d5c7922",
   "metadata": {},
   "outputs": [
    {
     "data": {
      "text/plain": [
       "(torch.Size([7648]), torch.Size([1913]))"
      ]
     },
     "execution_count": 36,
     "metadata": {},
     "output_type": "execute_result"
    }
   ],
   "source": [
    "X_train.shape, X_test.shape"
   ]
  },
  {
   "cell_type": "code",
   "execution_count": 37,
   "id": "d345366b",
   "metadata": {},
   "outputs": [
    {
     "data": {
      "text/plain": [
       "(torch.Size([7648, 1]), torch.Size([1913, 1]))"
      ]
     },
     "execution_count": 37,
     "metadata": {},
     "output_type": "execute_result"
    }
   ],
   "source": [
    "X_train, X_test = X_train.unsqueeze(1), X_test.unsqueeze(1)\n",
    "X_train.shape, X_test.shape"
   ]
  },
  {
   "cell_type": "markdown",
   "id": "cc1f0971",
   "metadata": {},
   "source": [
    "### Creating the Model Manually"
   ]
  },
  {
   "cell_type": "markdown",
   "id": "3746b3dd",
   "metadata": {},
   "source": [
    "$$\n",
    "y = X \\cdot W + b\n",
    "$$\n",
    "\n",
    "Where:\n",
    "- y is the predicted weight: (n, 1)\n",
    "- X is the given height: (n, 1)\n",
    "- W is the weight matrix: (1, 1)\n",
    "- b is the bias: (1, 1)"
   ]
  },
  {
   "cell_type": "code",
   "execution_count": 38,
   "id": "c9bb9a81",
   "metadata": {},
   "outputs": [],
   "source": [
    "batch_size = 2"
   ]
  },
  {
   "cell_type": "markdown",
   "id": "1f15f66d",
   "metadata": {},
   "source": [
    "#### Sample Forward Propagation"
   ]
  },
  {
   "cell_type": "markdown",
   "id": "d0e50643",
   "metadata": {},
   "source": [
    "#### `requires_grad`\n",
    "\n",
    "In order to track the operations and calculate the gradients of a matrix, you need to let PyTorch know by enabling the `requires_grad` argument when creating a tensor"
   ]
  },
  {
   "cell_type": "code",
   "execution_count": 39,
   "id": "de5dc556",
   "metadata": {},
   "outputs": [],
   "source": [
    "W = torch.randn((1, 1), requires_grad=True)\n",
    "b = torch.randn((1, 1), requires_grad=True)"
   ]
  },
  {
   "cell_type": "code",
   "execution_count": 40,
   "id": "4ecff98f",
   "metadata": {},
   "outputs": [],
   "source": [
    "X_train_sample, y_train_sample = X_train[:batch_size], y_train[:batch_size]"
   ]
  },
  {
   "cell_type": "code",
   "execution_count": 41,
   "id": "fa2949b4",
   "metadata": {},
   "outputs": [
    {
     "data": {
      "text/plain": [
       "(torch.Size([2, 1]), torch.Size([2]))"
      ]
     },
     "execution_count": 41,
     "metadata": {},
     "output_type": "execute_result"
    }
   ],
   "source": [
    "X_train_sample.shape, y_train_sample.shape"
   ]
  },
  {
   "cell_type": "code",
   "execution_count": 42,
   "id": "cbab882f",
   "metadata": {},
   "outputs": [],
   "source": [
    "output_sample = torch.matmul(X_train_sample, W) + b"
   ]
  },
  {
   "cell_type": "code",
   "execution_count": 43,
   "id": "0d383e3c",
   "metadata": {},
   "outputs": [
    {
     "data": {
      "text/plain": [
       "torch.Size([2, 1])"
      ]
     },
     "execution_count": 43,
     "metadata": {},
     "output_type": "execute_result"
    }
   ],
   "source": [
    "output_sample.shape"
   ]
  },
  {
   "cell_type": "markdown",
   "id": "7991e145",
   "metadata": {},
   "source": [
    "#### Loss Function"
   ]
  },
  {
   "cell_type": "code",
   "execution_count": 44,
   "id": "f43b8e32",
   "metadata": {},
   "outputs": [],
   "source": [
    "def mse(output: torch.Tensor, target: torch.Tensor) -> torch.Tensor:\n",
    "    residuals = target - output\n",
    "    return torch.mean(torch.square(residuals))"
   ]
  },
  {
   "cell_type": "code",
   "execution_count": 45,
   "id": "f6d9da4a",
   "metadata": {},
   "outputs": [],
   "source": [
    "loss = mse(output=output_sample, target=y_train_sample)"
   ]
  },
  {
   "cell_type": "code",
   "execution_count": 46,
   "id": "248398ef",
   "metadata": {},
   "outputs": [
    {
     "data": {
      "text/plain": [
       "tensor(0.6850, grad_fn=<MeanBackward0>)"
      ]
     },
     "execution_count": 46,
     "metadata": {},
     "output_type": "execute_result"
    }
   ],
   "source": [
    "loss"
   ]
  },
  {
   "cell_type": "markdown",
   "id": "7fe25750",
   "metadata": {},
   "source": [
    "#### Backward Propagation"
   ]
  },
  {
   "cell_type": "markdown",
   "id": "902a165d",
   "metadata": {},
   "source": [
    "Once you calcualte the loss based on *previous operations*, that involved matrices with `requires_grad=True`, PyTorch will automatically:\n",
    "1. Backpropagate the loss\n",
    "2. Compute the gradient for each matrix by chain rule"
   ]
  },
  {
   "cell_type": "code",
   "execution_count": 47,
   "id": "7b0a4a40",
   "metadata": {},
   "outputs": [],
   "source": [
    "loss.backward()"
   ]
  },
  {
   "cell_type": "markdown",
   "id": "3873c87c",
   "metadata": {},
   "source": [
    "#### Accesssing the Gradients"
   ]
  },
  {
   "cell_type": "markdown",
   "id": "1d12d396",
   "metadata": {},
   "source": [
    "Each matrix that required grad has three main functions related to gradients:\n",
    "1. `grad`: The signed value of the gradient (magnitude and direction) for that latest backward pass\n",
    "2. `grad_fn`: The function that needs to be derived\n",
    "3. `grad.zero_`: A method to reset the gradients, this needs to be done after every backward pass and weight update, otherwise PyTorch will accumulate gradients\n",
    "\n",
    "**Remember**: When a gradient is going:\n",
    "- Upwards (positive): We need to **decrease** the value of the weight\n",
    "- Downwards (negative): We need to **increase** the value of the weight"
   ]
  },
  {
   "cell_type": "code",
   "execution_count": 48,
   "id": "aa18a482",
   "metadata": {},
   "outputs": [
    {
     "data": {
      "text/plain": [
       "tensor([[1.4346]])"
      ]
     },
     "execution_count": 48,
     "metadata": {},
     "output_type": "execute_result"
    }
   ],
   "source": [
    "W.grad"
   ]
  },
  {
   "cell_type": "code",
   "execution_count": 49,
   "id": "48970360",
   "metadata": {},
   "outputs": [
    {
     "data": {
      "text/plain": [
       "<AddBackward0 at 0x1648e8d60>"
      ]
     },
     "execution_count": 49,
     "metadata": {},
     "output_type": "execute_result"
    }
   ],
   "source": [
    "output_sample.grad_fn"
   ]
  },
  {
   "cell_type": "code",
   "execution_count": 50,
   "id": "3965694d",
   "metadata": {},
   "outputs": [
    {
     "data": {
      "text/plain": [
       "(tensor([[0.]]), tensor([[0.]]))"
      ]
     },
     "execution_count": 50,
     "metadata": {},
     "output_type": "execute_result"
    }
   ],
   "source": [
    "W.grad.zero_(), b.grad.zero_()"
   ]
  },
  {
   "cell_type": "markdown",
   "id": "56ef261a",
   "metadata": {},
   "source": [
    "#### Full Training (Manual)"
   ]
  },
  {
   "cell_type": "markdown",
   "id": "802913c0",
   "metadata": {},
   "source": [
    "##### Hyperparams"
   ]
  },
  {
   "cell_type": "code",
   "execution_count": 51,
   "id": "28995d2a",
   "metadata": {},
   "outputs": [],
   "source": [
    "epochs = 15\n",
    "lr = 5e-5"
   ]
  },
  {
   "cell_type": "markdown",
   "id": "302bd624",
   "metadata": {},
   "source": [
    "##### Training"
   ]
  },
  {
   "cell_type": "code",
   "execution_count": 52,
   "id": "c044e903",
   "metadata": {},
   "outputs": [
    {
     "name": "stdout",
     "output_type": "stream",
     "text": [
      "Epoch 1: Loss = 0.9326393729000351\n",
      "Epoch 2: Loss = 0.6541301746291839\n",
      "Epoch 3: Loss = 0.5248347865720511\n",
      "Epoch 4: Loss = 0.4648274662205386\n",
      "Epoch 5: Loss = 0.43698901743691104\n",
      "Epoch 6: Loss = 0.4240822557956631\n",
      "Epoch 7: Loss = 0.4181036134876301\n",
      "Epoch 8: Loss = 0.41533783715443495\n",
      "Epoch 9: Loss = 0.4140608884087467\n",
      "Epoch 10: Loss = 0.41347305304276677\n",
      "Epoch 11: Loss = 0.4132036371123466\n",
      "Epoch 12: Loss = 0.4130809655138151\n",
      "Epoch 13: Loss = 0.4130256649045862\n",
      "Epoch 14: Loss = 0.4130011203075913\n",
      "Epoch 15: Loss = 0.41299051234787176\n"
     ]
    }
   ],
   "source": [
    "W = torch.randn((1, 1), requires_grad=True)\n",
    "b = torch.randn((1, 1), requires_grad=True)\n",
    "\n",
    "num_batches = len(X_train) // batch_size\n",
    "\n",
    "for epoch in range(epochs):\n",
    "    epoch_loss = 0\n",
    "    for batch_idx in range(num_batches):\n",
    "        ## TODO: Move to batches\n",
    "        inputs = X_train[batch_idx * batch_size: (batch_idx + 1) * batch_size]\n",
    "        target = y_train[batch_idx * batch_size: (batch_idx + 1) * batch_size]\n",
    "        \n",
    "        output = torch.matmul(inputs, W) + b\n",
    "        \n",
    "        loss = mse(output=output, target=target)\n",
    "        \n",
    "        loss.backward()\n",
    "        \n",
    "        # While updating weights, we want to PyTorch to stop following the graph operations\n",
    "        with torch.no_grad():\n",
    "            # Set learning rate to 1e-5\n",
    "            W -= W.grad * lr\n",
    "            b -= b.grad * lr\n",
    "            \n",
    "            W.grad.zero_()\n",
    "            b.grad.zero_()\n",
    "            \n",
    "        epoch_loss += loss.item()\n",
    "        \n",
    "    \n",
    "    print(f\"Epoch {epoch + 1}: Loss = {epoch_loss / len(X_train)}\")"
   ]
  },
  {
   "cell_type": "markdown",
   "id": "456bf06a",
   "metadata": {},
   "source": [
    "##### Evaluation"
   ]
  },
  {
   "cell_type": "code",
   "execution_count": 53,
   "id": "16087cc9",
   "metadata": {},
   "outputs": [
    {
     "name": "stderr",
     "output_type": "stream",
     "text": [
      "/var/folders/tg/jhy0d12925ldvjghgc440mjh0000gn/T/ipykernel_39493/2296896579.py:12: UserWarning: No artists with labels found to put in legend.  Note that artists whose label start with an underscore are ignored when legend() is called with no argument.\n",
      "  plt.legend()\n",
      "/var/folders/tg/jhy0d12925ldvjghgc440mjh0000gn/T/ipykernel_39493/2296896579.py:17: UserWarning: FigureCanvasAgg is non-interactive, and thus cannot be shown\n",
      "  fig.show()\n"
     ]
    },
    {
     "data": {
      "image/png": "[encoded data removed]",
      "text/plain": [
       "<Figure size 1500x1200 with 1 Axes>"
      ]
     },
     "metadata": {},
     "output_type": "display_data"
    }
   ],
   "source": [
    "predictions = torch.matmul(X_test, W) + b\n",
    "\n",
    "visualize_predictions(X_test, y_test, predictions)"
   ]
  },
  {
   "cell_type": "markdown",
   "id": "f66463dc",
   "metadata": {},
   "source": [
    "### Model Using PyTorch Modules"
   ]
  },
  {
   "cell_type": "markdown",
   "id": "4e2e16ab",
   "metadata": {},
   "source": [
    "#### Overall"
   ]
  },
  {
   "cell_type": "markdown",
   "id": "bf41cb4c",
   "metadata": {},
   "source": [
    "PyTorch provides a wide array of configurable layers, optimizers, losses, and other utilities to create and train models effeciently\n",
    "\n",
    "We'll be going through the steps in details, but overall the steps is as follow:\n",
    "1. Prepare the dataset as tensors, either manually or using PyTorch dataset utilities \n",
    "2. Define the model as a class, inherited from PyTorch `nn.Module`, which has internal functions for training and evaluation\n",
    "3. Define the optimizer, loss, ..etc\n",
    "4. Create a training script\n",
    "5. Evaluate"
   ]
  },
  {
   "cell_type": "markdown",
   "id": "080e2965",
   "metadata": {},
   "source": [
    "#### Creating the Dataset"
   ]
  },
  {
   "cell_type": "markdown",
   "id": "398ffd06",
   "metadata": {},
   "source": [
    "Since we previously created the dataset manually, this time we will create it via PyTorch dataset utilities"
   ]
  },
  {
   "cell_type": "code",
   "execution_count": 54,
   "id": "879f0229",
   "metadata": {},
   "outputs": [],
   "source": [
    "batch_size = 2"
   ]
  },
  {
   "cell_type": "code",
   "execution_count": 55,
   "id": "35f009dc",
   "metadata": {},
   "outputs": [
    {
     "data": {
      "text/plain": [
       "(torch.Size([7648, 1]),\n",
       " torch.Size([7648]),\n",
       " torch.Size([1913, 1]),\n",
       " torch.Size([1913]))"
      ]
     },
     "execution_count": 55,
     "metadata": {},
     "output_type": "execute_result"
    }
   ],
   "source": [
    "X_train.shape, y_train.shape, X_test.shape, y_test.shape"
   ]
  },
  {
   "cell_type": "markdown",
   "id": "f72384f6",
   "metadata": {},
   "source": [
    "The first step is we create a `TensorDataset` which is a very basic utility to create dataset object from pure PyTorch tensors, PyTorch provides other utilities for images, text, ..etc using other official packages like: `torchvision`, `torchtext`, ..etc"
   ]
  },
  {
   "cell_type": "code",
   "execution_count": 56,
   "id": "cf1619f7",
   "metadata": {},
   "outputs": [],
   "source": [
    "train_dataset = torch.utils.data.TensorDataset(X_train, y_train)\n",
    "test_dataset = torch.utils.data.TensorDataset(X_test, y_test)"
   ]
  },
  {
   "cell_type": "markdown",
   "id": "d59f1905",
   "metadata": {},
   "source": [
    "The second step is to create a `dataloader` to load the dataset as batches, while implementing shuffling, sampling, ..etc "
   ]
  },
  {
   "cell_type": "code",
   "execution_count": 57,
   "id": "d503d78c",
   "metadata": {},
   "outputs": [],
   "source": [
    "train_loader = torch.utils.data.DataLoader(dataset=train_dataset, batch_size=batch_size, shuffle=True)\n",
    "test_loader = torch.utils.data.DataLoader(dataset=test_dataset, batch_size=batch_size, shuffle=True)"
   ]
  },
  {
   "cell_type": "markdown",
   "id": "e6918054",
   "metadata": {},
   "source": [
    "#### Create the Model"
   ]
  },
  {
   "cell_type": "markdown",
   "id": "852ce24c",
   "metadata": {},
   "source": [
    "The main goal here is to extend the `nn.Module` and implement to main functions:\n",
    "1. `__init__`: initialise layers, params and other required inputs, eg: latent dimension, dynamic number of layers, ..etc \n",
    "2. `forward`: define the forward propagation process and return the output, which is a special function we will use later"
   ]
  },
  {
   "cell_type": "code",
   "execution_count": 58,
   "id": "0006176f",
   "metadata": {},
   "outputs": [],
   "source": [
    "class LinearRegression(nn.Module):\n",
    "    def __init__(self):\n",
    "        super(LinearRegression, self).__init__()\n",
    "        \n",
    "        self.fc = nn.Linear(in_features=1, out_features=1, bias=True)\n",
    "        \n",
    "    def forward(self, x):\n",
    "        output = self.fc(x)\n",
    "        return output"
   ]
  },
  {
   "cell_type": "markdown",
   "id": "65623f00",
   "metadata": {},
   "source": [
    "Then we need to instantiate the model and move it to the GPU if available"
   ]
  },
  {
   "cell_type": "code",
   "execution_count": 59,
   "id": "a3ef1f67",
   "metadata": {},
   "outputs": [],
   "source": [
    "device = torch.device(\"cuda\" if torch.cuda.is_available() else \"cpu\")"
   ]
  },
  {
   "cell_type": "code",
   "execution_count": 60,
   "id": "9c710d59",
   "metadata": {},
   "outputs": [],
   "source": [
    "model = LinearRegression()\n",
    "model = model.to(device)"
   ]
  },
  {
   "cell_type": "markdown",
   "id": "cbf55e31",
   "metadata": {},
   "source": [
    "##### What's available in PyTorch nn.Module"
   ]
  },
  {
   "cell_type": "markdown",
   "id": "75ac4cf9",
   "metadata": {},
   "source": [
    "###### Parameters"
   ]
  },
  {
   "cell_type": "code",
   "execution_count": 61,
   "id": "8798e62e",
   "metadata": {},
   "outputs": [
    {
     "name": "stdout",
     "output_type": "stream",
     "text": [
      "<generator object Module.parameters at 0x165e77a00>\n",
      "[Parameter containing:\n",
      "tensor([[0.1571]], requires_grad=True), Parameter containing:\n",
      "tensor([-0.9736], requires_grad=True)]\n"
     ]
    }
   ],
   "source": [
    "print(model.parameters())\n",
    "print(list(model.parameters()))"
   ]
  },
  {
   "cell_type": "code",
   "execution_count": 62,
   "id": "9796ef37",
   "metadata": {},
   "outputs": [
    {
     "data": {
      "text/plain": [
       "[('fc.weight',\n",
       "  Parameter containing:\n",
       "  tensor([[0.1571]], requires_grad=True)),\n",
       " ('fc.bias',\n",
       "  Parameter containing:\n",
       "  tensor([-0.9736], requires_grad=True))]"
      ]
     },
     "execution_count": 62,
     "metadata": {},
     "output_type": "execute_result"
    }
   ],
   "source": [
    "list(model.named_parameters())"
   ]
  },
  {
   "cell_type": "markdown",
   "id": "60512bd1",
   "metadata": {},
   "source": [
    "###### Training / Evaluation mode"
   ]
  },
  {
   "cell_type": "markdown",
   "id": "9d27e9ee",
   "metadata": {},
   "source": [
    "Switch between training mode and evaluation mode.\n",
    "\n",
    "In trainig mode PyTorch will keep track of the weights and gradients\n",
    "\n",
    "In evaluation mode PyTorch will run more effeciently on evaluation and won't track operations"
   ]
  },
  {
   "cell_type": "code",
   "execution_count": 63,
   "id": "826bbc5f",
   "metadata": {},
   "outputs": [
    {
     "data": {
      "text/plain": [
       "True"
      ]
     },
     "execution_count": 63,
     "metadata": {},
     "output_type": "execute_result"
    }
   ],
   "source": [
    "model.train()\n",
    "\n",
    "model.training"
   ]
  },
  {
   "cell_type": "code",
   "execution_count": 64,
   "id": "5c6c5cec",
   "metadata": {},
   "outputs": [
    {
     "data": {
      "text/plain": [
       "False"
      ]
     },
     "execution_count": 64,
     "metadata": {},
     "output_type": "execute_result"
    }
   ],
   "source": [
    "model.eval()\n",
    "\n",
    "\n",
    "model.training"
   ]
  },
  {
   "cell_type": "markdown",
   "id": "9ec7cb04",
   "metadata": {},
   "source": [
    "The forward method is a special method, where you can call the instance of your module and pass it the input\n",
    "\n",
    "```python\n",
    "output = model(inputs)\n",
    "```"
   ]
  },
  {
   "cell_type": "markdown",
   "id": "518f4537",
   "metadata": {},
   "source": [
    "#### Define Optimizer and Loss"
   ]
  },
  {
   "cell_type": "markdown",
   "id": "e7383e86",
   "metadata": {},
   "source": [
    "Loss function provided by PyTorch are self explanatory and don't include alot more that was covered before, except for more configuration\n",
    "\n",
    "Optimizers are implementation of common optimizers eg: `SGD`, `Adam`, `RMSProp`, ..etc\n",
    "They are resposbile for tracking the gradients and weights, and update accordingly. \n",
    "Although we're going to use them in a simple manner for now, they can do more.\n",
    "\n",
    "Most importantly we call `optimizer.step()` to update the weights of the matrices\n",
    "\n"
   ]
  },
  {
   "cell_type": "code",
   "execution_count": 65,
   "id": "450a0418",
   "metadata": {},
   "outputs": [],
   "source": [
    "learning_rate = 1e-4"
   ]
  },
  {
   "cell_type": "code",
   "execution_count": 66,
   "id": "24422d61",
   "metadata": {},
   "outputs": [],
   "source": [
    "optimizer = torch.optim.SGD(params=model.parameters(), lr=learning_rate)\n",
    "criterion = nn.MSELoss()"
   ]
  },
  {
   "cell_type": "markdown",
   "id": "7ae04b26",
   "metadata": {},
   "source": [
    "#### Training"
   ]
  },
  {
   "cell_type": "markdown",
   "id": "089fab5f",
   "metadata": {},
   "source": [
    "Similar to the last manual example, we're going to manually create a `for-loop` to iterate over epochs and batches"
   ]
  },
  {
   "cell_type": "code",
   "execution_count": 67,
   "id": "2a9062f1",
   "metadata": {},
   "outputs": [],
   "source": [
    "epochs = 10"
   ]
  },
  {
   "cell_type": "code",
   "execution_count": 68,
   "id": "6ef76d66",
   "metadata": {},
   "outputs": [
    {
     "name": "stderr",
     "output_type": "stream",
     "text": [
      "/Users/anas/PythonProjects/PyTorch-learning/pytorch/lib/python3.12/site-packages/torch/nn/modules/loss.py:616: UserWarning: Using a target size (torch.Size([2])) that is different to the input size (torch.Size([2, 1])). This will likely lead to incorrect results due to broadcasting. Please ensure they have the same size.\n",
      "  return F.mse_loss(input, target, reduction=self.reduction)\n"
     ]
    },
    {
     "name": "stdout",
     "output_type": "stream",
     "text": [
      "Epoch 1: Loss = 0.6710332220112124\n",
      "Epoch 2: Loss = 0.46941059603210367\n",
      "Epoch 3: Loss = 0.42608490636421403\n",
      "Epoch 4: Loss = 0.4157828333205909\n",
      "Epoch 5: Loss = 0.4119450810120797\n",
      "Epoch 6: Loss = 0.411123093161196\n",
      "Epoch 7: Loss = 0.4104941879716622\n",
      "Epoch 8: Loss = 0.41050043054455726\n",
      "Epoch 9: Loss = 0.40450168276328285\n",
      "Epoch 10: Loss = 0.41260467268388706\n"
     ]
    }
   ],
   "source": [
    "# Ensure the model is in training mode\n",
    "model.train()\n",
    "\n",
    "# Iterate over epochs\n",
    "for epoch in range(epochs):\n",
    "    # Track loss per epoch\n",
    "    epoch_loss = 0\n",
    "    # For each epoch, go through all batches\n",
    "    for batch in train_loader:\n",
    "        # IMPORTANT: set the optimizer gradient to zero, to avoid gradient accumulation\n",
    "        optimizer.zero_grad()\n",
    "        \n",
    "        # Each batch is a list of tensors,\n",
    "        # as provided, index 0 is the inputs and index 1 is the target\n",
    "        inputs, target = batch\n",
    "        \n",
    "        # Since our model is on the GPU, we need to move the tensors to GPU as well\n",
    "        inputs, target = inputs.to(device), target.to(device)\n",
    "        \n",
    "        # Here we call the forward method to get the outputs from the model\n",
    "        output = model(inputs)\n",
    "        \n",
    "        # Compute the loss, pass the predictions first and then the actual output\n",
    "        loss = criterion(output, target)\n",
    "        \n",
    "        # Backward propagation\n",
    "        loss.backward()\n",
    "        \n",
    "        # Update the weights\n",
    "        optimizer.step()\n",
    "        \n",
    "        epoch_loss += loss.item()\n",
    "        \n",
    "    \n",
    "    print(f\"Epoch {epoch + 1}: Loss = {epoch_loss / len(train_loader.dataset)}\")"
   ]
  },
  {
   "cell_type": "code",
   "execution_count": 69,
   "id": "de35e37c",
   "metadata": {},
   "outputs": [
    {
     "name": "stderr",
     "output_type": "stream",
     "text": [
      "/var/folders/tg/jhy0d12925ldvjghgc440mjh0000gn/T/ipykernel_39493/2296896579.py:12: UserWarning: No artists with labels found to put in legend.  Note that artists whose label start with an underscore are ignored when legend() is called with no argument.\n",
      "  plt.legend()\n",
      "/var/folders/tg/jhy0d12925ldvjghgc440mjh0000gn/T/ipykernel_39493/2296896579.py:17: UserWarning: FigureCanvasAgg is non-interactive, and thus cannot be shown\n",
      "  fig.show()\n"
     ]
    },
    {
     "data": {
      "image/png": "[encoded data removed]",
      "text/plain": [
       "<Figure size 1500x1200 with 1 Axes>"
      ]
     },
     "metadata": {},
     "output_type": "display_data"
    }
   ],
   "source": [
    "predictions = model(X_test)\n",
    "\n",
    "visualize_predictions(X_test, y_test, predictions)    "
   ]
  },
  {
   "cell_type": "code",
   "execution_count": null,
   "id": "c4e83973",
   "metadata": {},
   "outputs": [],
   "source": []
  }
 ],
 "metadata": {
  "kernelspec": {
   "display_name": "pytorch",
   "language": "python",
   "name": "python3"
  },
  "language_info": {
   "codemirror_mode": {
    "name": "ipython",
    "version": 3
   },
   "file_extension": ".py",
   "mimetype": "text/x-python",
   "name": "python",
   "nbconvert_exporter": "python",
   "pygments_lexer": "ipython3",
   "version": "3.12.10"
  },
  "toc": {
   "base_numbering": 1,
   "nav_menu": {},
   "number_sections": true,
   "sideBar": true,
   "skip_h1_title": false,
   "title_cell": "Table of Contents",
   "title_sidebar": "Contents",
   "toc_cell": false,
   "toc_position": {
    "height": "calc(100% - 180px)",
    "left": "10px",
    "top": "150px",
    "width": "384px"
   },
   "toc_section_display": true,
   "toc_window_display": true
  }
 },
 "nbformat": 4,
 "nbformat_minor": 5
}
