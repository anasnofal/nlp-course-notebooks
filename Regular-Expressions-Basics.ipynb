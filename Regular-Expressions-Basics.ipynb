{
 "cells": [
  {
   "cell_type": "code",
   "execution_count": 1,
   "id": "50416be8",
   "metadata": {},
   "outputs": [],
   "source": [
    "import re\n",
    "from IPython import display"
   ]
  },
  {
   "cell_type": "markdown",
   "id": "5a846323",
   "metadata": {},
   "source": [
    "# Regular Expressions (Regex)"
   ]
  },
  {
   "cell_type": "markdown",
   "id": "051add7b",
   "metadata": {},
   "source": [
    "## Introduction\n",
    "\n",
    "Regular expressions are: *queries to search in a text*, the're also called *regex*\n",
    "\n",
    "These expressions / queries are usually a combination of several special characters that represent a special query\n",
    "\n",
    "<br />\n",
    "\n",
    "Example usage of regex:\n",
    "1. Validate length\n",
    "2. Validate pattern (eg: email pattern)\n",
    "3. Find text that falls in a specific pattern (eg: website name in link, numbers in text)\n",
    "4. Select a specific part of text and ignore the other (eg: select text only without punctuation marks)\n",
    "\n",
    "<br />\n",
    "\n",
    "Remember:\n",
    "- Regular expressions aren't easy to master nor to remember all the expressions\n",
    "- Whenever you have a case that you need a regex for, google it first\n",
    "- Go to [regexr](https://regexr.com/) and test your regex, change it as you need until you're satisfied\n"
   ]
  },
  {
   "cell_type": "markdown",
   "id": "94209464",
   "metadata": {},
   "source": [
    "### Regex Basics"
   ]
  },
  {
   "cell_type": "code",
   "execution_count": 2,
   "id": "1ee6fa60",
   "metadata": {},
   "outputs": [
    {
     "data": {
      "text/html": [
       "\n",
       "        <iframe\n",
       "            width=\"800\"\n",
       "            height=\"500\"\n",
       "            src=\"https://devhints.io/regexp\"\n",
       "            frameborder=\"0\"\n",
       "            allowfullscreen\n",
       "            \n",
       "        ></iframe>\n",
       "        "
      ],
      "text/plain": [
       "<IPython.lib.display.IFrame at 0x7fca44dd3760>"
      ]
     },
     "execution_count": 2,
     "metadata": {},
     "output_type": "execute_result"
    }
   ],
   "source": [
    "display.IFrame('https://devhints.io/regexp', width=800, height=500)"
   ]
  },
  {
   "cell_type": "markdown",
   "id": "5c401471",
   "metadata": {},
   "source": [
    "The best way to learn is by example so let's explore the basics first"
   ]
  },
  {
   "cell_type": "markdown",
   "id": "e2a9a1ac",
   "metadata": {},
   "source": [
    "### Example 1\n",
    "\n",
    "Select alphanumerical characters only (characters and numbers) from the following tweet **(with changes)**"
   ]
  },
  {
   "cell_type": "code",
   "execution_count": 3,
   "id": "fc28ef08",
   "metadata": {},
   "outputs": [
    {
     "data": {
      "text/html": [
       "<blockquote class=\"twitter-tweet\"><p lang=\"en\" dir=\"ltr\">How to get started in Natural Language Processing (NLP) thread 🧵🪡</p>&mdash; Munich🥨NLP (@MunichNlp) <a href=\"https://twitter.com/MunichNlp/status/1551257503018717184?ref_src=twsrc%5Etfw\">July 24, 2022</a></blockquote> <script async src=\"https://platform.twitter.com/widgets.js\" charset=\"utf-8\"></script> "
      ],
      "text/plain": [
       "<IPython.core.display.HTML object>"
      ]
     },
     "execution_count": 3,
     "metadata": {},
     "output_type": "execute_result"
    }
   ],
   "source": [
    "display.HTML('<blockquote class=\"twitter-tweet\"><p lang=\"en\" dir=\"ltr\">How to get started in Natural Language Processing (NLP) thread 🧵🪡</p>&mdash; Munich🥨NLP (@MunichNlp) <a href=\"https://twitter.com/MunichNlp/status/1551257503018717184?ref_src=twsrc%5Etfw\">July 24, 2022</a></blockquote> <script async src=\"https://platform.twitter.com/widgets.js\" charset=\"utf-8\"></script> ')"
   ]
  },
  {
   "cell_type": "markdown",
   "id": "7da312f4",
   "metadata": {},
   "source": [
    "#### Alternative I"
   ]
  },
  {
   "cell_type": "code",
   "execution_count": 4,
   "id": "d8398b18",
   "metadata": {},
   "outputs": [],
   "source": [
    "tweet = \"How to get started in Natural Language Processing (NLP) ?! thread 🧵🪡 #NLP #datascience #nlp_2022 ...\""
   ]
  },
  {
   "cell_type": "code",
   "execution_count": 5,
   "id": "022439fc",
   "metadata": {},
   "outputs": [
    {
     "name": "stdout",
     "output_type": "stream",
     "text": [
      "['H', 'o', 'w', 't', 'o', 'g', 'e', 't', 's', 't', 'a', 'r', 't', 'e', 'd', 'i', 'n', 'N', 'a', 't', 'u', 'r', 'a', 'l', 'L', 'a', 'n', 'g', 'u', 'a', 'g', 'e', 'P', 'r', 'o', 'c', 'e', 's', 's', 'i', 'n', 'g', 'N', 'L', 'P', 't', 'h', 'r', 'e', 'a', 'd', 'N', 'L', 'P', 'd', 'a', 't', 'a', 's', 'c', 'i', 'e', 'n', 'c', 'e', 'n', 'l', 'p', '_', '2', '0', '2', '2']\n"
     ]
    }
   ],
   "source": [
    "matches = re.findall(pattern='\\w', string=tweet)\n",
    "print(matches)"
   ]
  },
  {
   "cell_type": "markdown",
   "id": "12b2aff9",
   "metadata": {},
   "source": [
    "What does this RegEx mean?\n",
    "\n",
    "It means match any **alphanumeric** character and the **underscore** charachter ***(one at a time)***"
   ]
  },
  {
   "cell_type": "code",
   "execution_count": 6,
   "id": "08c0f112",
   "metadata": {},
   "outputs": [
    {
     "data": {
      "text/plain": [
       "'HowtogetstartedinNaturalLanguageProcessingNLPthreadNLPdatasciencenlp_2022'"
      ]
     },
     "execution_count": 6,
     "metadata": {},
     "output_type": "execute_result"
    }
   ],
   "source": [
    "\"\".join(matches)"
   ]
  },
  {
   "cell_type": "markdown",
   "id": "df348886",
   "metadata": {},
   "source": [
    "The result from the current solution to this example yields the alphanumerical characters (with underscore), but not seperated by spaces, why?\n",
    "\n",
    "Because the whitespaces in the tweet weren't selected"
   ]
  },
  {
   "cell_type": "code",
   "execution_count": 7,
   "id": "4d70ab99",
   "metadata": {},
   "outputs": [
    {
     "name": "stdout",
     "output_type": "stream",
     "text": [
      "['H', 'o', 'w', ' ', 't', 'o', ' ', 'g', 'e', 't', ' ', 's', 't', 'a', 'r', 't', 'e', 'd', ' ', 'i', 'n', ' ', 'N', 'a', 't', 'u', 'r', 'a', 'l', ' ', 'L', 'a', 'n', 'g', 'u', 'a', 'g', 'e', ' ', 'P', 'r', 'o', 'c', 'e', 's', 's', 'i', 'n', 'g', ' ', 'N', 'L', 'P', ' ', ' ', 't', 'h', 'r', 'e', 'a', 'd', ' ', ' ', 'N', 'L', 'P', ' ', 'd', 'a', 't', 'a', 's', 'c', 'i', 'e', 'n', 'c', 'e', ' ', 'n', 'l', 'p', '_', '2', '0', '2', '2', ' ']\n"
     ]
    }
   ],
   "source": [
    "matches = re.findall(pattern='[\\w\\s]', string=tweet)\n",
    "print(matches)"
   ]
  },
  {
   "cell_type": "markdown",
   "id": "03477e9c",
   "metadata": {},
   "source": [
    "What does this RegEx mean?\n",
    "\n",
    "It means match any **alphanumeric and underscore** <ins>***or***</ins>  **whitespace** characters ***(one at at time)***"
   ]
  },
  {
   "cell_type": "code",
   "execution_count": 8,
   "id": "cfd52f4e",
   "metadata": {},
   "outputs": [
    {
     "data": {
      "text/plain": [
       "'How to get started in Natural Language Processing NLP  thread  NLP datascience nlp_2022 '"
      ]
     },
     "execution_count": 8,
     "metadata": {},
     "output_type": "execute_result"
    }
   ],
   "source": [
    "\"\".join(matches)"
   ]
  },
  {
   "cell_type": "markdown",
   "id": "97ad7095",
   "metadata": {},
   "source": [
    "#### Alternative II"
   ]
  },
  {
   "cell_type": "code",
   "execution_count": 9,
   "id": "4d66f4bf",
   "metadata": {},
   "outputs": [
    {
     "name": "stdout",
     "output_type": "stream",
     "text": [
      "['How', 'to', 'get', 'started', 'in', 'Natural', 'Language', 'Processing', 'NLP', 'thread', 'NLP', 'datascience', 'nlp_2022']\n"
     ]
    }
   ],
   "source": [
    "matches = re.findall(pattern='\\w+', string=tweet)\n",
    "print(matches)"
   ]
  },
  {
   "cell_type": "markdown",
   "id": "914ba2fe",
   "metadata": {},
   "source": [
    "What does this RegEx mean?\n",
    "\n",
    "1. `\\w`: match any alphanumeric and underscore\n",
    "2. ` +`: match one or more at a time "
   ]
  },
  {
   "cell_type": "code",
   "execution_count": 10,
   "id": "7b1bfb3f",
   "metadata": {},
   "outputs": [
    {
     "data": {
      "text/plain": [
       "'How to get started in Natural Language Processing NLP thread NLP datascience nlp_2022'"
      ]
     },
     "execution_count": 10,
     "metadata": {},
     "output_type": "execute_result"
    }
   ],
   "source": [
    "\" \".join(matches)"
   ]
  },
  {
   "cell_type": "markdown",
   "id": "9413a3e1",
   "metadata": {},
   "source": [
    "Takeaways:\n",
    "1. For a single problem there are many solutions using RegEx\n",
    "2. Unless you specify else, RegEx matches single characters at a time\n",
    "3. `\\w`: select whitespace character\n",
    "4. `\\s`: select alphanumeric and underscore character\n",
    "5. `+` : match one or more at a time "
   ]
  },
  {
   "cell_type": "markdown",
   "id": "edf16bbc",
   "metadata": {},
   "source": [
    "### Example 2"
   ]
  },
  {
   "cell_type": "markdown",
   "id": "b21d6790",
   "metadata": {},
   "source": [
    "Select Arabic characters only from the following tweet"
   ]
  },
  {
   "cell_type": "code",
   "execution_count": 11,
   "id": "476bd097",
   "metadata": {},
   "outputs": [
    {
     "data": {
      "text/html": [
       "<blockquote class=\"twitter-tweet\"><p lang=\"ar\" dir=\"rtl\">غابات دبين 🇯🇴<br>محمية طبيعية استثنائية في مدينة جرش العريقة، وتزخر في فصلي الربيع والصيف بالزوار نظراً لكونها واحدة من أهم المعالم السياحية في الأردن، حيث تضم مساحاتها الشاسعة أنواع عديدة من أنواع الاشجار والنباتات المختلفة والزهور الخلابة ⬇️<a href=\"https://twitter.com/hashtag/%D8%A7%D9%84%D8%A3%D8%B1%D8%AF%D9%86_%D8%A8%D8%B9%D9%8A%D9%88%D9%86_%D8%A3%D8%B1%D8%AF%D9%86%D9%8A%D8%A9?src=hash&amp;ref_src=twsrc%5Etfw\">#الأردن_بعيون_أردنية</a> 🇯🇴 <a href=\"https://t.co/JR8eNo7qzi\">pic.twitter.com/JR8eNo7qzi</a></p>&mdash; يزن ⚖︎🇯🇴 (@YazanTheeb22) <a href=\"https://twitter.com/YazanTheeb22/status/1552275609426006017?ref_src=twsrc%5Etfw\">July 27, 2022</a></blockquote> <script async src=\"https://platform.twitter.com/widgets.js\" charset=\"utf-8\"></script> "
      ],
      "text/plain": [
       "<IPython.core.display.HTML object>"
      ]
     },
     "execution_count": 11,
     "metadata": {},
     "output_type": "execute_result"
    }
   ],
   "source": [
    "display.HTML(data='<blockquote class=\"twitter-tweet\"><p lang=\"ar\" dir=\"rtl\">غابات دبين 🇯🇴<br>محمية طبيعية استثنائية في مدينة جرش العريقة، وتزخر في فصلي الربيع والصيف بالزوار نظراً لكونها واحدة من أهم المعالم السياحية في الأردن، حيث تضم مساحاتها الشاسعة أنواع عديدة من أنواع الاشجار والنباتات المختلفة والزهور الخلابة ⬇️<a href=\"https://twitter.com/hashtag/%D8%A7%D9%84%D8%A3%D8%B1%D8%AF%D9%86_%D8%A8%D8%B9%D9%8A%D9%88%D9%86_%D8%A3%D8%B1%D8%AF%D9%86%D9%8A%D8%A9?src=hash&amp;ref_src=twsrc%5Etfw\">#الأردن_بعيون_أردنية</a> 🇯🇴 <a href=\"https://t.co/JR8eNo7qzi\">pic.twitter.com/JR8eNo7qzi</a></p>&mdash; يزن ⚖︎🇯🇴 (@YazanTheeb22) <a href=\"https://twitter.com/YazanTheeb22/status/1552275609426006017?ref_src=twsrc%5Etfw\">July 27, 2022</a></blockquote> <script async src=\"https://platform.twitter.com/widgets.js\" charset=\"utf-8\"></script> ')"
   ]
  },
  {
   "cell_type": "code",
   "execution_count": 12,
   "id": "407d9f27",
   "metadata": {},
   "outputs": [],
   "source": [
    "tweet = \"\"\"\n",
    "غابات دبين 🇯🇴\n",
    "محمية طبيعية استثنائية في مدينة جرش العريقة، وتزخر في فصلي الربيع والصيف بالزوار نظراً لكونها واحدة من أهم المعالم السياحية في الأردن، حيث تضم مساحاتها الشاسعة أنواع عديدة من أنواع الاشجار والنباتات المختلفة والزهور الخلابة ⬇️\n",
    "#الأردن_بعيون_أردنية 🇯🇴\n",
    "\"\"\""
   ]
  },
  {
   "cell_type": "code",
   "execution_count": 13,
   "id": "31a59aaf",
   "metadata": {},
   "outputs": [
    {
     "data": {
      "text/plain": [
       "['غابات',\n",
       " 'دبين',\n",
       " 'محمية',\n",
       " 'طبيعية',\n",
       " 'استثنائية',\n",
       " 'في',\n",
       " 'مدينة',\n",
       " 'جرش',\n",
       " 'العريقة،',\n",
       " 'وتزخر',\n",
       " 'في',\n",
       " 'فصلي',\n",
       " 'الربيع',\n",
       " 'والصيف',\n",
       " 'بالزوار',\n",
       " 'نظراً',\n",
       " 'لكونها',\n",
       " 'واحدة',\n",
       " 'من',\n",
       " 'أهم',\n",
       " 'المعالم',\n",
       " 'السياحية',\n",
       " 'في',\n",
       " 'الأردن،',\n",
       " 'حيث',\n",
       " 'تضم',\n",
       " 'مساحاتها',\n",
       " 'الشاسعة',\n",
       " 'أنواع',\n",
       " 'عديدة',\n",
       " 'من',\n",
       " 'أنواع',\n",
       " 'الاشجار',\n",
       " 'والنباتات',\n",
       " 'المختلفة',\n",
       " 'والزهور',\n",
       " 'الخلابة',\n",
       " 'الأردن',\n",
       " 'بعيون',\n",
       " 'أردنية']"
      ]
     },
     "execution_count": 13,
     "metadata": {},
     "output_type": "execute_result"
    }
   ],
   "source": [
    "re.findall(\"[\\u0600-\\u06FF]+\", tweet)"
   ]
  },
  {
   "cell_type": "markdown",
   "id": "f4d43e47",
   "metadata": {},
   "source": [
    "What does this RegeX mean?\n",
    "\n",
    "1. `[]` match any character within this list\n",
    "2. `\\u0600 - \\u6FF`: *unicode* characters range\n",
    "3. `+`: match one or more at a time\n"
   ]
  },
  {
   "cell_type": "markdown",
   "id": "d1fca40e",
   "metadata": {},
   "source": [
    "#### What is Unicode?\n",
    "\n",
    "It's a system to handle and represent alphabets, characters, emojis, symbols ...etc in computer systems.\n",
    "\n",
    "The Unicode system is widely adopted and has become a standard, other alternatives are the ASCII system for example.\n",
    "\n",
    "Resources:\n",
    "- [Offical Site](https://home.unicode.org/) \n",
    "- [Arabic language in Unicode](https://unicode.org/charts/PDF/U0600.pdf)"
   ]
  }
 ],
 "metadata": {
  "celltoolbar": "Raw Cell Format",
  "kernelspec": {
   "display_name": "pytorch",
   "language": "python",
   "name": "python3"
  },
  "language_info": {
   "codemirror_mode": {
    "name": "ipython",
    "version": 3
   },
   "file_extension": ".py",
   "mimetype": "text/x-python",
   "name": "python",
   "nbconvert_exporter": "python",
   "pygments_lexer": "ipython3",
   "version": "3.12.10"
  }
 },
 "nbformat": 4,
 "nbformat_minor": 5
}
